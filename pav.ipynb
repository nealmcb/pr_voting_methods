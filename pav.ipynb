{
 "cells": [
  {
   "cell_type": "markdown",
   "metadata": {},
   "source": [
    "# Proportional Approval Voting implementation\n",
    "Todo: When it gets slow, use counts of unique cvrs, not all cvrs\n",
    "\n",
    "When that gets slow, come up with more efficient algorithm, e.g. A*, which is easily distributed"
   ]
  },
  {
   "cell_type": "code",
   "execution_count": 1,
   "metadata": {},
   "outputs": [],
   "source": [
    "import pandas as pd\n",
    "import collections\n",
    "import itertools\n",
    "import time\n",
    "\n",
    "import pav"
   ]
  },
  {
   "cell_type": "code",
   "execution_count": 2,
   "metadata": {},
   "outputs": [
    {
     "name": "stdout",
     "output_type": "stream",
     "text": [
      "Plurality results in order\n",
      "Anita_Seitz         4921\n",
      "Shannon_Bird        4823\n",
      "Maria_De_Cambra     3921\n",
      "Mark_Clark          3500\n",
      "David_DeMott        3126\n",
      "Debbie_Bergamo      2668\n",
      "Mike_Melvin         2112\n",
      "Jason_Blanckaert    2026\n",
      "Steve_Caulk         2026\n",
      "Nathan_Pearce       1229\n",
      "dtype: int64\n",
      "\n",
      "12684 CVRs, 169 unique selections of candidates\n",
      "Score is 10619.167 for plurality winners ['Anita_Seitz', 'Shannon_Bird', 'Maria_De_Cambra']\n",
      "\n",
      "Proportional Approval Voting results\n",
      "\n",
      "Top 10 scores:\n",
      "('10799.500', ['Anita_Seitz', 'Mark_Clark', 'Shannon_Bird'])\n",
      "('10619.167', ['Anita_Seitz', 'Maria_De_Cambra', 'Shannon_Bird'])\n",
      "('10607.500', ['Anita_Seitz', 'Debbie_Bergamo', 'Shannon_Bird'])\n",
      "('10588.833', ['Anita_Seitz', 'David_DeMott', 'Shannon_Bird'])\n",
      "('10366.333', ['Maria_De_Cambra', 'Mark_Clark', 'Shannon_Bird'])\n",
      "('10349.500', ['Anita_Seitz', 'Mike_Melvin', 'Shannon_Bird'])\n",
      "('10260.667', ['Anita_Seitz', 'Jason_Blanckaert', 'Shannon_Bird'])\n",
      "('10214.000', ['Anita_Seitz', 'Maria_De_Cambra', 'Mark_Clark'])\n",
      "('10078.833', ['David_DeMott', 'Maria_De_Cambra', 'Shannon_Bird'])\n",
      "('9972.833', ['Anita_Seitz', 'Debbie_Bergamo', 'Mark_Clark'])\n",
      "\n",
      "Max score ('10799.500', ['Anita_Seitz', 'Mark_Clark', 'Shannon_Bird'])\n"
     ]
    }
   ],
   "source": [
    "winner, cvrs, scores, df = pav.tally_pav(\"Westminster_Adams.csv\", 3)"
   ]
  },
  {
   "cell_type": "code",
   "execution_count": 3,
   "metadata": {},
   "outputs": [
    {
     "data": {
      "text/plain": [
       "<module 'pav' from '/srv/s/approvalvoting/pr_voting_methods/pav.py'>"
      ]
     },
     "execution_count": 3,
     "metadata": {},
     "output_type": "execute_result"
    }
   ],
   "source": [
    "# Use this to test out new code after modifying the pav module\n",
    "import importlib\n",
    "importlib.reload(pav)"
   ]
  },
  {
   "cell_type": "code",
   "execution_count": 4,
   "metadata": {},
   "outputs": [
    {
     "data": {
      "text/html": [
       "<div>\n",
       "<style scoped>\n",
       "    .dataframe tbody tr th:only-of-type {\n",
       "        vertical-align: middle;\n",
       "    }\n",
       "\n",
       "    .dataframe tbody tr th {\n",
       "        vertical-align: top;\n",
       "    }\n",
       "\n",
       "    .dataframe thead th {\n",
       "        text-align: right;\n",
       "    }\n",
       "</style>\n",
       "<table border=\"1\" class=\"dataframe\">\n",
       "  <thead>\n",
       "    <tr style=\"text-align: right;\">\n",
       "      <th></th>\n",
       "      <th>Mark_Clark</th>\n",
       "      <th>Mike_Melvin</th>\n",
       "      <th>Maria_De_Cambra</th>\n",
       "      <th>Shannon_Bird</th>\n",
       "      <th>Steve_Caulk</th>\n",
       "      <th>Debbie_Bergamo</th>\n",
       "      <th>Anita_Seitz</th>\n",
       "      <th>Jason_Blanckaert</th>\n",
       "      <th>David_DeMott</th>\n",
       "      <th>Nathan_Pearce</th>\n",
       "    </tr>\n",
       "  </thead>\n",
       "  <tbody>\n",
       "    <tr>\n",
       "      <th>0</th>\n",
       "      <td>0</td>\n",
       "      <td>0</td>\n",
       "      <td>0</td>\n",
       "      <td>0</td>\n",
       "      <td>0</td>\n",
       "      <td>0</td>\n",
       "      <td>0</td>\n",
       "      <td>0</td>\n",
       "      <td>0</td>\n",
       "      <td>0</td>\n",
       "    </tr>\n",
       "    <tr>\n",
       "      <th>1</th>\n",
       "      <td>0</td>\n",
       "      <td>0</td>\n",
       "      <td>1</td>\n",
       "      <td>1</td>\n",
       "      <td>1</td>\n",
       "      <td>0</td>\n",
       "      <td>0</td>\n",
       "      <td>0</td>\n",
       "      <td>0</td>\n",
       "      <td>0</td>\n",
       "    </tr>\n",
       "    <tr>\n",
       "      <th>2</th>\n",
       "      <td>0</td>\n",
       "      <td>0</td>\n",
       "      <td>0</td>\n",
       "      <td>0</td>\n",
       "      <td>0</td>\n",
       "      <td>0</td>\n",
       "      <td>0</td>\n",
       "      <td>0</td>\n",
       "      <td>0</td>\n",
       "      <td>0</td>\n",
       "    </tr>\n",
       "    <tr>\n",
       "      <th>3</th>\n",
       "      <td>0</td>\n",
       "      <td>0</td>\n",
       "      <td>0</td>\n",
       "      <td>0</td>\n",
       "      <td>1</td>\n",
       "      <td>0</td>\n",
       "      <td>1</td>\n",
       "      <td>1</td>\n",
       "      <td>0</td>\n",
       "      <td>0</td>\n",
       "    </tr>\n",
       "    <tr>\n",
       "      <th>4</th>\n",
       "      <td>0</td>\n",
       "      <td>0</td>\n",
       "      <td>0</td>\n",
       "      <td>1</td>\n",
       "      <td>0</td>\n",
       "      <td>1</td>\n",
       "      <td>0</td>\n",
       "      <td>0</td>\n",
       "      <td>1</td>\n",
       "      <td>0</td>\n",
       "    </tr>\n",
       "  </tbody>\n",
       "</table>\n",
       "</div>"
      ],
      "text/plain": [
       "   Mark_Clark  Mike_Melvin  Maria_De_Cambra  Shannon_Bird  Steve_Caulk  \\\n",
       "0           0            0                0             0            0   \n",
       "1           0            0                1             1            1   \n",
       "2           0            0                0             0            0   \n",
       "3           0            0                0             0            1   \n",
       "4           0            0                0             1            0   \n",
       "\n",
       "   Debbie_Bergamo  Anita_Seitz  Jason_Blanckaert  David_DeMott  Nathan_Pearce  \n",
       "0               0            0                 0             0              0  \n",
       "1               0            0                 0             0              0  \n",
       "2               0            0                 0             0              0  \n",
       "3               0            1                 1             0              0  \n",
       "4               1            0                 0             1              0  "
      ]
     },
     "execution_count": 4,
     "metadata": {},
     "output_type": "execute_result"
    }
   ],
   "source": [
    "df.head()"
   ]
  },
  {
   "cell_type": "code",
   "execution_count": 5,
   "metadata": {},
   "outputs": [
    {
     "name": "stdout",
     "output_type": "stream",
     "text": [
      "Plurality results in order\n",
      "Tom_Thompson_III        81\n",
      "Jerry_L_Sauer           75\n",
      "Christopher_P_Cary      57\n",
      "Julie_Smith             56\n",
      "Donna_J_Sauer           54\n",
      "Yvonne_M_Gerhardt       47\n",
      "Jennifer_Simanovicki    36\n",
      "Margaret_A_Holeman      23\n",
      "dtype: int64\n",
      "\n",
      "121 CVRs, 50 unique selections of candidates\n",
      "Score is 182.333 for plurality winners ['Tom_Thompson_III', 'Jerry_L_Sauer', 'Christopher_P_Cary', 'Julie_Smith']\n",
      "\n",
      "Proportional Approval Voting results\n",
      "\n",
      "Top 10 scores:\n",
      "('182.333', ['Donna_J_Sauer', 'Jerry_L_Sauer', 'Julie_Smith', 'Tom_Thompson_III'])\n",
      "('182.333', ['Christopher_P_Cary', 'Jerry_L_Sauer', 'Julie_Smith', 'Tom_Thompson_III'])\n",
      "('180.833', ['Jerry_L_Sauer', 'Julie_Smith', 'Tom_Thompson_III', 'Yvonne_M_Gerhardt'])\n",
      "('179.583', ['Christopher_P_Cary', 'Jerry_L_Sauer', 'Tom_Thompson_III', 'Yvonne_M_Gerhardt'])\n",
      "('179.333', ['Christopher_P_Cary', 'Donna_J_Sauer', 'Jerry_L_Sauer', 'Tom_Thompson_III'])\n",
      "('177.583', ['Donna_J_Sauer', 'Jerry_L_Sauer', 'Tom_Thompson_III', 'Yvonne_M_Gerhardt'])\n",
      "('177.500', ['Christopher_P_Cary', 'Donna_J_Sauer', 'Julie_Smith', 'Tom_Thompson_III'])\n",
      "('174.833', ['Jennifer_Simanovicki', 'Jerry_L_Sauer', 'Julie_Smith', 'Tom_Thompson_III'])\n",
      "('174.583', ['Christopher_P_Cary', 'Donna_J_Sauer', 'Tom_Thompson_III', 'Yvonne_M_Gerhardt'])\n",
      "('173.417', ['Donna_J_Sauer', 'Julie_Smith', 'Tom_Thompson_III', 'Yvonne_M_Gerhardt'])\n",
      "\n",
      "Max score ('182.333', ['Donna_J_Sauer', 'Jerry_L_Sauer', 'Julie_Smith', 'Tom_Thompson_III'])\n"
     ]
    }
   ],
   "source": [
    "winner, cvrs, scores, df = pav.tally_pav(\"Byers_SD_32J_Adams.csv\", 4)"
   ]
  },
  {
   "cell_type": "markdown",
   "metadata": {},
   "source": [
    "# Timing results\n",
    "Takes about 12 seconds(?) for 20 candidates, 10 winners, 121 ballots\n",
    "\n",
    "Uses nearly 3 GB of memory with 24 and 12\n",
    "\n",
    "24 choose 12 = 2704156"
   ]
  },
  {
   "cell_type": "code",
   "execution_count": 71,
   "metadata": {
    "collapsed": true
   },
   "outputs": [],
   "source": [
    "timings = []"
   ]
  },
  {
   "cell_type": "code",
   "execution_count": 77,
   "metadata": {
    "collapsed": true
   },
   "outputs": [],
   "source": [
    "candidates = 12\n",
    "winners = 6"
   ]
  },
  {
   "cell_type": "code",
   "execution_count": 78,
   "metadata": {
    "collapsed": true
   },
   "outputs": [],
   "source": [
    "possible_results = itertools.combinations(all_candidates + tuple(list(range(candidates - len(all_candidates)))), winners)"
   ]
  },
  {
   "cell_type": "code",
   "execution_count": 79,
   "metadata": {},
   "outputs": [],
   "source": [
    "t1 = time.time()\n",
    "scores = {}\n",
    "for result in possible_results:\n",
    "    resultset = frozenset(result)\n",
    "    scores[resultset] = sum(utility(resultset, cvr) for cvr in cvrs)\n",
    "timings.append(\"{} seconds for {} candidates, {} winners, {} ballots\".format(time.time() - t1, candidates, winners, len(cvrs)))"
   ]
  },
  {
   "cell_type": "code",
   "execution_count": 80,
   "metadata": {},
   "outputs": [
    {
     "data": {
      "text/plain": [
       "['1031.4427270889282 seconds for 20 candidates, 10 winners, 121 ballots',\n",
       " '5.157426595687866 seconds for 12 candidates, 6 winners, 12684 ballots']"
      ]
     },
     "execution_count": 80,
     "metadata": {},
     "output_type": "execute_result"
    }
   ],
   "source": [
    "timings"
   ]
  },
  {
   "cell_type": "code",
   "execution_count": 285,
   "metadata": {},
   "outputs": [
    {
     "data": {
      "text/plain": [
       "['0.005549907684326172 seconds for 8 candidates, 4 winners, 121 ballots',\n",
       " '0.0004897117614746094 seconds for 8 candidates, 4 winners, 121 ballots',\n",
       " '0.022046566009521484 seconds for 10 candidates, 5 winners, 121 ballots',\n",
       " '0.22809982299804688 seconds for 14 candidates, 7 winners, 121 ballots',\n",
       " '2.5786209106445312 seconds for 18 candidates, 9 winners, 121 ballots',\n",
       " '9.772108793258667 seconds for 20 candidates, 10 winners, 121 ballots',\n",
       " '39.48445129394531 seconds for 22 candidates, 11 winners, 121 ballots',\n",
       " '161.45553970336914 seconds for 24 candidates, 12 winners, 121 ballots',\n",
       " '4.725412607192993 seconds for 24 candidates, 5 winners, 121 ballots',\n",
       " '6.555292844772339 seconds for 30 candidates, 5 winners, 121 ballots']"
      ]
     },
     "execution_count": 285,
     "metadata": {},
     "output_type": "execute_result"
    }
   ],
   "source": [
    "# older results\n",
    "timings"
   ]
  }
 ],
 "metadata": {
  "kernelspec": {
   "display_name": "Python 3",
   "language": "python",
   "name": "python3"
  },
  "language_info": {
   "codemirror_mode": {
    "name": "ipython",
    "version": 3
   },
   "file_extension": ".py",
   "mimetype": "text/x-python",
   "name": "python",
   "nbconvert_exporter": "python",
   "pygments_lexer": "ipython3",
   "version": "3.6.7"
  },
  "toc": {
   "colors": {
    "hover_highlight": "#DAA520",
    "running_highlight": "#FF0000",
    "selected_highlight": "#FFD700"
   },
   "moveMenuLeft": true,
   "nav_menu": {
    "height": "63px",
    "width": "252px"
   },
   "navigate_menu": true,
   "number_sections": true,
   "sideBar": true,
   "threshold": 4,
   "toc_cell": false,
   "toc_section_display": "block",
   "toc_window_display": false,
   "widenNotebook": false
  }
 },
 "nbformat": 4,
 "nbformat_minor": 2
}
