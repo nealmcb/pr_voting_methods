{
 "cells": [
  {
   "cell_type": "markdown",
   "metadata": {},
   "source": [
    "# Proportional Approval Voting implementation\n",
    "Todo: When it gets slow, use counts of unique cvrs, not all cvrs\n",
    "\n",
    "When that gets slow, come up with more efficient algorithm"
   ]
  },
  {
   "cell_type": "code",
   "execution_count": 2,
   "metadata": {
    "collapsed": true
   },
   "outputs": [],
   "source": [
    "import pandas as pd\n",
    "import collections\n",
    "import itertools\n",
    "import time"
   ]
  },
  {
   "cell_type": "code",
   "execution_count": 11,
   "metadata": {
    "collapsed": false
   },
   "outputs": [],
   "source": [
    "def harmonic(matches):\n",
    "    \"\"\"Calculate harmonic series sum up to the integer 'matches'\n",
    "    >>> harmonic(0)\n",
    "    0.0\n",
    "    >>> harmonic(2)\n",
    "    1.5\n",
    "    \"\"\"\n",
    "    utility = 0.0\n",
    "    for i in range(1, matches + 1):\n",
    "        utility += 1 / i\n",
    "\n",
    "    return utility"
   ]
  },
  {
   "cell_type": "code",
   "execution_count": 4,
   "metadata": {
    "collapsed": false
   },
   "outputs": [],
   "source": [
    "UTILITY = [harmonic(i) for i in range(0, 100)]"
   ]
  },
  {
   "cell_type": "code",
   "execution_count": 8,
   "metadata": {
    "collapsed": false,
    "scrolled": true
   },
   "outputs": [
    {
     "data": {
      "text/plain": [
       "[0.0, 1.0, 1.5, 1.8333333333333333, 2.083333333333333, 2.283333333333333]"
      ]
     },
     "execution_count": 8,
     "metadata": {},
     "output_type": "execute_result"
    }
   ],
   "source": [
    "UTILITY[:6]"
   ]
  },
  {
   "cell_type": "code",
   "execution_count": 9,
   "metadata": {
    "collapsed": true
   },
   "outputs": [],
   "source": [
    "def utility(permutation, cvr):\n",
    "    \"\"\"Return utility to voter who voted cvr of given permutation\n",
    "    >>> utility(frozenset([\"c1\", \"c2\", \"c4\"]), frozenset([\"c1\", \"c3\", \"c4\"]))\n",
    "    1.5\n",
    "    \"\"\"\n",
    "    return UTILITY[len(permutation.intersection(cvr))]"
   ]
  },
  {
   "cell_type": "code",
   "execution_count": 12,
   "metadata": {
    "collapsed": false
   },
   "outputs": [
    {
     "data": {
      "text/plain": [
       "TestResults(failed=0, attempted=3)"
      ]
     },
     "execution_count": 12,
     "metadata": {},
     "output_type": "execute_result"
    }
   ],
   "source": [
    "import doctest\n",
    "doctest.testmod()"
   ]
  },
  {
   "cell_type": "code",
   "execution_count": 56,
   "metadata": {
    "collapsed": false
   },
   "outputs": [],
   "source": [
    "def tally_pav(file, num_winners):\n",
    "    \"\"\"Tally given csv file with Proportional Approval Voting method\n",
    "    File should have one column per candidate, identified in headers,\n",
    "    and have either a \"0\" or a \"1\" for each candidate in each row.\n",
    "    \"\"\"\n",
    "\n",
    "    df = pd.read_csv(file)\n",
    "\n",
    "    plurality = df.sum()\n",
    "    plurality.sort_values(inplace=True, ascending=False)\n",
    "    print(\"Plurality results in order\")\n",
    "    print(plurality)\n",
    "    print()\n",
    "\n",
    "    all_candidates = type(next(df.itertuples(False)))._fields\n",
    "\n",
    "    cvrs = []\n",
    "\n",
    "    for t in df.itertuples(False):\n",
    "        cvrs.append(frozenset(key for key, value in t._asdict().items() if value))\n",
    "\n",
    "    uniq = collections.Counter(cvrs)\n",
    "    print(\"{} CVRs, {} unique selections of candidates\".format(len(cvrs), len(uniq)))\n",
    "\n",
    "    possible_results = itertools.combinations(all_candidates, num_winners)\n",
    "\n",
    "    scores = {}\n",
    "    for result in possible_results:\n",
    "        resultset = frozenset(result)\n",
    "        scores[resultset] = sum(utility(resultset, cvr) for cvr in cvrs)\n",
    "\n",
    "    print(\"Top 10 scores:\")\n",
    "    [print(res) for res in sorted(scores.items(), key=lambda tuple: tuple[1], reverse=True)[:10]]\n",
    "\n",
    "    winner = max(scores.items(), key=lambda tuple: tuple[1])\n",
    "    print(\"\\nMax score: {} for {}\".format(scores[winner[0]], winner))\n",
    "\n",
    "    return winner, cvrs, scores, df"
   ]
  },
  {
   "cell_type": "code",
   "execution_count": 68,
   "metadata": {
    "collapsed": false
   },
   "outputs": [
    {
     "name": "stdout",
     "output_type": "stream",
     "text": [
      "Plurality results in order\n",
      "Anita_Seitz         4921\n",
      "Shannon_Bird        4823\n",
      "Maria_De_Cambra     3921\n",
      "Mark_Clark          3500\n",
      "David_DeMott        3126\n",
      "Debbie_Bergamo      2668\n",
      "Mike_Melvin         2112\n",
      "Jason_Blanckaert    2026\n",
      "Steve_Caulk         2026\n",
      "Nathan_Pearce       1229\n",
      "dtype: int64\n",
      "\n",
      "12684 CVRs, 169 unique selections of candidates\n",
      "Top 10 scores:\n",
      "(frozenset({'Anita_Seitz', 'Mark_Clark', 'Shannon_Bird'}), 10799.500000000013)\n",
      "(frozenset({'Anita_Seitz', 'Shannon_Bird', 'Maria_De_Cambra'}), 10619.16666666674)\n",
      "(frozenset({'Anita_Seitz', 'Shannon_Bird', 'Debbie_Bergamo'}), 10607.50000000001)\n",
      "(frozenset({'Anita_Seitz', 'Shannon_Bird', 'David_DeMott'}), 10588.83333333334)\n",
      "(frozenset({'Mark_Clark', 'Shannon_Bird', 'Maria_De_Cambra'}), 10366.333333333334)\n",
      "(frozenset({'Anita_Seitz', 'Shannon_Bird', 'Mike_Melvin'}), 10349.499999999996)\n",
      "(frozenset({'Anita_Seitz', 'Shannon_Bird', 'Jason_Blanckaert'}), 10260.666666666666)\n",
      "(frozenset({'Anita_Seitz', 'Mark_Clark', 'Maria_De_Cambra'}), 10213.999999999998)\n",
      "(frozenset({'Shannon_Bird', 'Maria_De_Cambra', 'David_DeMott'}), 10078.83333333334)\n",
      "(frozenset({'Anita_Seitz', 'Mark_Clark', 'Debbie_Bergamo'}), 9972.833333333332)\n",
      "\n",
      "Max score: 10799.500000000013 for (frozenset({'Anita_Seitz', 'Mark_Clark', 'Shannon_Bird'}), 10799.500000000013)\n"
     ]
    }
   ],
   "source": [
    "winner, cvrs, scores, df = tally_pav(\"Westminster_Adams.csv\", 3)"
   ]
  },
  {
   "cell_type": "code",
   "execution_count": 60,
   "metadata": {
    "collapsed": false
   },
   "outputs": [
    {
     "data": {
      "text/html": [
       "<div>\n",
       "<table border=\"1\" class=\"dataframe\">\n",
       "  <thead>\n",
       "    <tr style=\"text-align: right;\">\n",
       "      <th></th>\n",
       "      <th>Mark_Clark</th>\n",
       "      <th>Mike_Melvin</th>\n",
       "      <th>Maria_De_Cambra</th>\n",
       "      <th>Shannon_Bird</th>\n",
       "      <th>Steve_Caulk</th>\n",
       "      <th>Debbie_Bergamo</th>\n",
       "      <th>Anita_Seitz</th>\n",
       "      <th>Jason_Blanckaert</th>\n",
       "      <th>David_DeMott</th>\n",
       "      <th>Nathan_Pearce</th>\n",
       "    </tr>\n",
       "  </thead>\n",
       "  <tbody>\n",
       "    <tr>\n",
       "      <th>0</th>\n",
       "      <td>0</td>\n",
       "      <td>0</td>\n",
       "      <td>0</td>\n",
       "      <td>0</td>\n",
       "      <td>0</td>\n",
       "      <td>0</td>\n",
       "      <td>0</td>\n",
       "      <td>0</td>\n",
       "      <td>0</td>\n",
       "      <td>0</td>\n",
       "    </tr>\n",
       "    <tr>\n",
       "      <th>1</th>\n",
       "      <td>0</td>\n",
       "      <td>0</td>\n",
       "      <td>1</td>\n",
       "      <td>1</td>\n",
       "      <td>1</td>\n",
       "      <td>0</td>\n",
       "      <td>0</td>\n",
       "      <td>0</td>\n",
       "      <td>0</td>\n",
       "      <td>0</td>\n",
       "    </tr>\n",
       "    <tr>\n",
       "      <th>2</th>\n",
       "      <td>0</td>\n",
       "      <td>0</td>\n",
       "      <td>0</td>\n",
       "      <td>0</td>\n",
       "      <td>0</td>\n",
       "      <td>0</td>\n",
       "      <td>0</td>\n",
       "      <td>0</td>\n",
       "      <td>0</td>\n",
       "      <td>0</td>\n",
       "    </tr>\n",
       "    <tr>\n",
       "      <th>3</th>\n",
       "      <td>0</td>\n",
       "      <td>0</td>\n",
       "      <td>0</td>\n",
       "      <td>0</td>\n",
       "      <td>1</td>\n",
       "      <td>0</td>\n",
       "      <td>1</td>\n",
       "      <td>1</td>\n",
       "      <td>0</td>\n",
       "      <td>0</td>\n",
       "    </tr>\n",
       "    <tr>\n",
       "      <th>4</th>\n",
       "      <td>0</td>\n",
       "      <td>0</td>\n",
       "      <td>0</td>\n",
       "      <td>1</td>\n",
       "      <td>0</td>\n",
       "      <td>1</td>\n",
       "      <td>0</td>\n",
       "      <td>0</td>\n",
       "      <td>1</td>\n",
       "      <td>0</td>\n",
       "    </tr>\n",
       "  </tbody>\n",
       "</table>\n",
       "</div>"
      ],
      "text/plain": [
       "   Mark_Clark  Mike_Melvin  Maria_De_Cambra  Shannon_Bird  Steve_Caulk  \\\n",
       "0           0            0                0             0            0   \n",
       "1           0            0                1             1            1   \n",
       "2           0            0                0             0            0   \n",
       "3           0            0                0             0            1   \n",
       "4           0            0                0             1            0   \n",
       "\n",
       "   Debbie_Bergamo  Anita_Seitz  Jason_Blanckaert  David_DeMott  Nathan_Pearce  \n",
       "0               0            0                 0             0              0  \n",
       "1               0            0                 0             0              0  \n",
       "2               0            0                 0             0              0  \n",
       "3               0            1                 1             0              0  \n",
       "4               1            0                 0             1              0  "
      ]
     },
     "execution_count": 60,
     "metadata": {},
     "output_type": "execute_result"
    }
   ],
   "source": [
    "df.head()"
   ]
  },
  {
   "cell_type": "code",
   "execution_count": 69,
   "metadata": {
    "collapsed": true
   },
   "outputs": [],
   "source": [
    "all_candidates = type(next(df.itertuples(False)))._fields"
   ]
  },
  {
   "cell_type": "code",
   "execution_count": 67,
   "metadata": {
    "collapsed": false
   },
   "outputs": [
    {
     "name": "stdout",
     "output_type": "stream",
     "text": [
      "Plurality results in order\n",
      "Tom_Thompson_III        81\n",
      "Jerry_L_Sauer           75\n",
      "Christopher_P_Cary      57\n",
      "Julie_Smith             56\n",
      "Donna_J_Sauer           54\n",
      "Yvonne_M_Gerhardt       47\n",
      "Jennifer_Simanovicki    36\n",
      "Margaret_A_Holeman      23\n",
      "dtype: int64\n",
      "\n",
      "121 CVRs, 50 unique selections of candidates\n",
      "Top 10 scores:\n",
      "(frozenset({'Jerry_L_Sauer', 'Tom_Thompson_III', 'Julie_Smith', 'Donna_J_Sauer'}), 182.33333333333343)\n",
      "(frozenset({'Jerry_L_Sauer', 'Christopher_P_Cary', 'Tom_Thompson_III', 'Julie_Smith'}), 182.3333333333334)\n",
      "(frozenset({'Jerry_L_Sauer', 'Tom_Thompson_III', 'Julie_Smith', 'Yvonne_M_Gerhardt'}), 180.83333333333337)\n",
      "(frozenset({'Jerry_L_Sauer', 'Christopher_P_Cary', 'Tom_Thompson_III', 'Yvonne_M_Gerhardt'}), 179.5833333333334)\n",
      "(frozenset({'Jerry_L_Sauer', 'Christopher_P_Cary', 'Tom_Thompson_III', 'Donna_J_Sauer'}), 179.33333333333343)\n",
      "(frozenset({'Jerry_L_Sauer', 'Tom_Thompson_III', 'Donna_J_Sauer', 'Yvonne_M_Gerhardt'}), 177.58333333333348)\n",
      "(frozenset({'Christopher_P_Cary', 'Tom_Thompson_III', 'Julie_Smith', 'Donna_J_Sauer'}), 177.50000000000003)\n",
      "(frozenset({'Jerry_L_Sauer', 'Tom_Thompson_III', 'Julie_Smith', 'Jennifer_Simanovicki'}), 174.83333333333337)\n",
      "(frozenset({'Christopher_P_Cary', 'Tom_Thompson_III', 'Donna_J_Sauer', 'Yvonne_M_Gerhardt'}), 174.5833333333334)\n",
      "(frozenset({'Yvonne_M_Gerhardt', 'Tom_Thompson_III', 'Julie_Smith', 'Donna_J_Sauer'}), 173.41666666666669)\n",
      "\n",
      "Max score: 182.33333333333343 for (frozenset({'Jerry_L_Sauer', 'Tom_Thompson_III', 'Julie_Smith', 'Donna_J_Sauer'}), 182.33333333333343)\n"
     ]
    }
   ],
   "source": [
    "winner, cvrs, scores, df = tally_pav(\"Byers_SD_32J_Adams.csv\", 4)"
   ]
  },
  {
   "cell_type": "markdown",
   "metadata": {},
   "source": [
    "# Timing results\n",
    "Takes about 12 seconds(?) for 20 candidates, 10 winners, 121 \n",
    "\n",
    "Memory pressure with 24 and 12, nearly 3 GB used\n",
    "\n",
    "24 choose 12 = 2704156"
   ]
  },
  {
   "cell_type": "code",
   "execution_count": 71,
   "metadata": {
    "collapsed": true
   },
   "outputs": [],
   "source": [
    "timings = []"
   ]
  },
  {
   "cell_type": "code",
   "execution_count": 77,
   "metadata": {
    "collapsed": true
   },
   "outputs": [],
   "source": [
    "candidates = 12\n",
    "winners = 6"
   ]
  },
  {
   "cell_type": "code",
   "execution_count": 78,
   "metadata": {
    "collapsed": true
   },
   "outputs": [],
   "source": [
    "possible_results = itertools.combinations(all_candidates + tuple(list(range(candidates - len(all_candidates)))), winners)"
   ]
  },
  {
   "cell_type": "code",
   "execution_count": 79,
   "metadata": {
    "collapsed": false
   },
   "outputs": [],
   "source": [
    "t1 = time.time()\n",
    "scores = {}\n",
    "for result in possible_results:\n",
    "    resultset = frozenset(result)\n",
    "    scores[resultset] = sum(utility(resultset, cvr) for cvr in cvrs)\n",
    "timings.append(\"{} seconds for {} candidates, {} winners, {} ballots\".format(time.time() - t1, candidates, winners, len(cvrs)))"
   ]
  },
  {
   "cell_type": "code",
   "execution_count": 80,
   "metadata": {
    "collapsed": false
   },
   "outputs": [
    {
     "data": {
      "text/plain": [
       "['1031.4427270889282 seconds for 20 candidates, 10 winners, 121 ballots',\n",
       " '5.157426595687866 seconds for 12 candidates, 6 winners, 12684 ballots']"
      ]
     },
     "execution_count": 80,
     "metadata": {},
     "output_type": "execute_result"
    }
   ],
   "source": [
    "timings"
   ]
  },
  {
   "cell_type": "code",
   "execution_count": 285,
   "metadata": {
    "collapsed": false
   },
   "outputs": [
    {
     "data": {
      "text/plain": [
       "['0.005549907684326172 seconds for 8 candidates, 4 winners, 121 ballots',\n",
       " '0.0004897117614746094 seconds for 8 candidates, 4 winners, 121 ballots',\n",
       " '0.022046566009521484 seconds for 10 candidates, 5 winners, 121 ballots',\n",
       " '0.22809982299804688 seconds for 14 candidates, 7 winners, 121 ballots',\n",
       " '2.5786209106445312 seconds for 18 candidates, 9 winners, 121 ballots',\n",
       " '9.772108793258667 seconds for 20 candidates, 10 winners, 121 ballots',\n",
       " '39.48445129394531 seconds for 22 candidates, 11 winners, 121 ballots',\n",
       " '161.45553970336914 seconds for 24 candidates, 12 winners, 121 ballots',\n",
       " '4.725412607192993 seconds for 24 candidates, 5 winners, 121 ballots',\n",
       " '6.555292844772339 seconds for 30 candidates, 5 winners, 121 ballots']"
      ]
     },
     "execution_count": 285,
     "metadata": {},
     "output_type": "execute_result"
    }
   ],
   "source": [
    "# older results\n",
    "timings"
   ]
  },
  {
   "cell_type": "code",
   "execution_count": 229,
   "metadata": {
    "collapsed": false
   },
   "outputs": [],
   "source": [
    "winner = max(scores.items(), key=lambda tuple: tuple[1])"
   ]
  },
  {
   "cell_type": "code",
   "execution_count": 230,
   "metadata": {
    "collapsed": false
   },
   "outputs": [
    {
     "name": "stdout",
     "output_type": "stream",
     "text": [
      "Max score: 234.00000000000037 for (frozenset({0, 'Choice_573_1', 'Choice_564_1', 'Choice_585_1', 10, 'Choice_570_1', 'Choice_582_1', 'Choice_576_1', 'Choice_567_1', 'Choice_579_1'}), 234.00000000000037)\n"
     ]
    }
   ],
   "source": [
    "print(\"Max score: {} for {}\".format(scores[winner[0]], winner))"
   ]
  },
  {
   "cell_type": "code",
   "execution_count": 195,
   "metadata": {
    "collapsed": false
   },
   "outputs": [
    {
     "data": {
      "text/plain": [
       "frozenset({'Choice_576_1', 'Choice_579_1', 'Choice_582_1', 'Choice_585_1'})"
      ]
     },
     "execution_count": 195,
     "metadata": {},
     "output_type": "execute_result"
    }
   ],
   "source": [
    "resultset"
   ]
  },
  {
   "cell_type": "code",
   "execution_count": 203,
   "metadata": {
    "collapsed": false
   },
   "outputs": [
    {
     "data": {
      "text/plain": [
       "1.5"
      ]
     },
     "execution_count": 203,
     "metadata": {},
     "output_type": "execute_result"
    }
   ],
   "source": [
    "utility(resultset, c[0])"
   ]
  }
 ],
 "metadata": {
  "kernelspec": {
   "display_name": "Python 3",
   "language": "python",
   "name": "python3"
  },
  "language_info": {
   "codemirror_mode": {
    "name": "ipython",
    "version": 3
   },
   "file_extension": ".py",
   "mimetype": "text/x-python",
   "name": "python",
   "nbconvert_exporter": "python",
   "pygments_lexer": "ipython3",
   "version": "3.4.3"
  },
  "toc": {
   "colors": {
    "hover_highlight": "#DAA520",
    "running_highlight": "#FF0000",
    "selected_highlight": "#FFD700"
   },
   "moveMenuLeft": true,
   "nav_menu": {
    "height": "63px",
    "width": "252px"
   },
   "navigate_menu": true,
   "number_sections": true,
   "sideBar": true,
   "threshold": 4,
   "toc_cell": false,
   "toc_section_display": "block",
   "toc_window_display": false,
   "widenNotebook": false
  }
 },
 "nbformat": 4,
 "nbformat_minor": 2
}
