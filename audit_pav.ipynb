{
 "cells": [
  {
   "cell_type": "code",
   "execution_count": 1,
   "metadata": {},
   "outputs": [],
   "source": [
    "import pav"
   ]
  },
  {
   "cell_type": "code",
   "execution_count": 2,
   "metadata": {},
   "outputs": [],
   "source": [
    "import pandas as pd\n",
    "import collections\n",
    "import itertools\n",
    "import time\n",
    "\n",
    "import pav"
   ]
  },
  {
   "cell_type": "markdown",
   "metadata": {},
   "source": [
    "# TODO\n",
    "\n",
    "For each set of winners\n",
    "    * for each possible ballot\n",
    "        * what is the score\n",
    "\n",
    "take that plus and minus as the possible range of impacts of an incorrect interpretation\n",
    "\n",
    "for pairs of interpretations then (the reported winners and the runner-up winterset)\n",
    "    * see how ballots could bridge the gap\n",
    "\n",
    "For a given winner set, look at the range of possible scores\n",
    "\n",
    "SPAV one round per winner, vs STV - one round to eliminate one or more lowers\n",
    "\n",
    "TODO:\n",
    "* routine to tally election for a given set of winners\n",
    "* Test identity (`is`) for elements of frozenset from bools_to_set and make bools_to_set actually return and increment counters of the sets, rather than duplicating them\n",
    "* perhaps sort set by something like sum of plurality totals for each candidate they voted for, and optimize counting with them somehow, bounding how far down the list to go\n",
    "\n",
    "all winnersets: itertools.combinations(candidatelist, winners)"
   ]
  },
  {
   "cell_type": "code",
   "execution_count": 30,
   "metadata": {},
   "outputs": [],
   "source": [
    "BCVR = collections.namedtuple('BCVR', ['A', 'B', 'C', 'D'])"
   ]
  },
  {
   "cell_type": "code",
   "execution_count": 188,
   "metadata": {
    "scrolled": true
   },
   "outputs": [
    {
     "data": {
      "text/plain": [
       "<module 'pav' from '/srv/s/approvalvoting/pr_voting_methods/pav.py'>"
      ]
     },
     "execution_count": 188,
     "metadata": {},
     "output_type": "execute_result"
    }
   ],
   "source": [
    "import importlib\n",
    "importlib.reload(pav)"
   ]
  },
  {
   "cell_type": "code",
   "execution_count": 189,
   "metadata": {
    "scrolled": true
   },
   "outputs": [
    {
     "name": "stdout",
     "output_type": "stream",
     "text": [
      "1 CVRs, 1 unique selections of candidates\n",
      "\n",
      "Proportional Approval Voting results\n",
      "\n",
      "Top 10 scores:\n",
      "('0.000', ['A', 'B'])\n",
      "('0.000', ['A', 'C'])\n",
      "('0.000', ['A', 'D'])\n",
      "('0.000', ['B', 'C'])\n",
      "('0.000', ['B', 'D'])\n",
      "('0.000', ['C', 'D'])\n",
      "\n",
      "Max score ('0.000', ['A', 'B'])\n"
     ]
    },
    {
     "data": {
      "text/plain": [
       "((frozenset({'A', 'B'}), 0.0),\n",
       " [frozenset({'A', 'B'})],\n",
       " {frozenset({'A', 'B'}): 0.0,\n",
       "  frozenset({'A', 'C'}): 0.0,\n",
       "  frozenset({'A', 'D'}): 0.0,\n",
       "  frozenset({'B', 'C'}): 0.0,\n",
       "  frozenset({'B', 'D'}): 0.0,\n",
       "  frozenset({'C', 'D'}): 0.0})"
      ]
     },
     "execution_count": 189,
     "metadata": {},
     "output_type": "execute_result"
    }
   ],
   "source": [
    "pav.tally_pav([BCVR(1, 1, 0, 0)], 2)"
   ]
  },
  {
   "cell_type": "code",
   "execution_count": 190,
   "metadata": {},
   "outputs": [],
   "source": [
    "bs = pav.bools_to_set(BCVR(1, 1, 0, 0))"
   ]
  },
  {
   "cell_type": "code",
   "execution_count": 191,
   "metadata": {},
   "outputs": [
    {
     "data": {
      "text/plain": [
       "1.5"
      ]
     },
     "execution_count": 191,
     "metadata": {},
     "output_type": "execute_result"
    }
   ],
   "source": [
    "pav.tally_pav_for_result(set(['A', 'B']), [bs], 2)"
   ]
  },
  {
   "cell_type": "markdown",
   "metadata": {},
   "source": [
    "For each set of winners\n",
    "    * for each possible ballot\n",
    "        * what is the score\n",
    "\n",
    "take that plus and minus as the possible range of impacts of an incorrect interpretation\n",
    "\n",
    "for pairs of interpretations then (the reported winners and the runner-up winterset)\n",
    "    * see how ballots could bridge the gap\n"
   ]
  },
  {
   "cell_type": "code",
   "execution_count": 95,
   "metadata": {},
   "outputs": [],
   "source": [
    "candidatelist = ['A', 'B', 'C', 'D']\n",
    "num_winners = 2"
   ]
  },
  {
   "cell_type": "code",
   "execution_count": 96,
   "metadata": {},
   "outputs": [],
   "source": [
    "winnersets = itertools.combinations(candidatelist, num_winners)"
   ]
  },
  {
   "cell_type": "code",
   "execution_count": 98,
   "metadata": {},
   "outputs": [
    {
     "name": "stdout",
     "output_type": "stream",
     "text": [
      "[('A', 'B'), ('A', 'C'), ('A', 'D'), ('B', 'C'), ('B', 'D'), ('C', 'D')]\n"
     ]
    }
   ],
   "source": [
    "print(list(winnersets))"
   ]
  },
  {
   "cell_type": "code",
   "execution_count": 159,
   "metadata": {},
   "outputs": [],
   "source": [
    "def all_approval_ballots(candidatelist):\n",
    "    \"Yield all possible approval ballots for given list of candidates\"\n",
    "\n",
    "    candidate_or_not = zip([''] * len(candidatelist), candidatelist)\n",
    "    for decisions in itertools.product(*candidate_or_not):\n",
    "        yield list(filter(lambda c: c != '', decisions))"
   ]
  },
  {
   "cell_type": "code",
   "execution_count": 161,
   "metadata": {},
   "outputs": [
    {
     "data": {
      "text/plain": [
       "[[],\n",
       " ['D'],\n",
       " ['C'],\n",
       " ['C', 'D'],\n",
       " ['B'],\n",
       " ['B', 'D'],\n",
       " ['B', 'C'],\n",
       " ['B', 'C', 'D'],\n",
       " ['A'],\n",
       " ['A', 'D'],\n",
       " ['A', 'C'],\n",
       " ['A', 'C', 'D'],\n",
       " ['A', 'B'],\n",
       " ['A', 'B', 'D'],\n",
       " ['A', 'B', 'C'],\n",
       " ['A', 'B', 'C', 'D']]"
      ]
     },
     "execution_count": 161,
     "metadata": {},
     "output_type": "execute_result"
    }
   ],
   "source": [
    "list(all_approval_ballots(candidatelist))"
   ]
  },
  {
   "cell_type": "code",
   "execution_count": 139,
   "metadata": {},
   "outputs": [],
   "source": [
    "cvr = ['A', 'B', 'C', 'D']"
   ]
  },
  {
   "cell_type": "code",
   "execution_count": 140,
   "metadata": {},
   "outputs": [
    {
     "data": {
      "text/plain": [
       "1.5"
      ]
     },
     "execution_count": 140,
     "metadata": {},
     "output_type": "execute_result"
    }
   ],
   "source": [
    "pav.tally_pav_for_result(winnerset, [set(cvr)], num_winners)"
   ]
  },
  {
   "cell_type": "code",
   "execution_count": 171,
   "metadata": {},
   "outputs": [],
   "source": [
    "def maxdeltascore(candidatelist, winners, altwinners, num_winners):\n",
    "    winnerset = set(winners)\n",
    "    altwinnerset = set(altwinners)\n",
    "    maxdelta = -100\n",
    "    for cvr in all_approval_ballots(candidatelist):\n",
    "        cvr_score = pav.tally_pav_for_result(winnerset, [set(cvr)], num_winners)\n",
    "        cvr_score2 = pav.tally_pav_for_result(altwinnerset, [set(cvr)], num_winners)\n",
    "        for acvr in all_approval_ballots(candidatelist):\n",
    "            acvr_score = pav.tally_pav_for_result(winnerset, [set(acvr)], num_winners)\n",
    "            acvr_score2 = pav.tally_pav_for_result(altwinnerset, [set(acvr)], num_winners)\n",
    "            # print(\"%.4f, %s, %.4f, %s\" % (cvr_score, cvr, acvr_score, acvr))\n",
    "            delta = (cvr_score - cvr_score2) - (acvr_score - acvr_score2)\n",
    "            if acvr != cvr  and  delta > maxdelta:\n",
    "                maxdelta = delta\n",
    "                maxpairs = (cvr, acvr)\n",
    "                print(f'new max delta = {maxdelta:.2f}: {cvr_score:.2f}, {cvr_score2:.2f}, {acvr_score:.2f}, {acvr_score2:.2f}, {cvr}, {acvr}')\n",
    "            # pav.tally_pav_for_result(set(['A', 'B']), [set(cvr)], len(candidatelist))\n",
    "\n",
    "    print(\"max delta: %.4f for winnerset %s vs altwinnerset %s via %s\" % (maxdelta, winnerset, altwinnerset, maxpairs))"
   ]
  },
  {
   "cell_type": "code",
   "execution_count": 185,
   "metadata": {},
   "outputs": [],
   "source": [
    "e1_cvrs = [BCVR(0,1,1,0)] * 10000 + [BCVR(1,1,0,0)] * 1500 + [BCVR(0,0,1,1)] * 800"
   ]
  },
  {
   "cell_type": "code",
   "execution_count": 186,
   "metadata": {},
   "outputs": [
    {
     "data": {
      "text/plain": [
       "12300"
      ]
     },
     "execution_count": 186,
     "metadata": {},
     "output_type": "execute_result"
    }
   ],
   "source": [
    "len(e1_cvrs)"
   ]
  },
  {
   "cell_type": "code",
   "execution_count": 175,
   "metadata": {},
   "outputs": [
    {
     "name": "stdout",
     "output_type": "stream",
     "text": [
      "Automatic pdb calling has been turned ON\n"
     ]
    }
   ],
   "source": [
    "%pdb"
   ]
  },
  {
   "cell_type": "code",
   "execution_count": 187,
   "metadata": {
    "scrolled": true
   },
   "outputs": [
    {
     "name": "stdout",
     "output_type": "stream",
     "text": [
      "12300 CVRs, 3 unique selections of candidates\n",
      "\n",
      "Proportional Approval Voting results\n",
      "\n",
      "Top 10 scores:\n",
      "('0.000', ['A', 'B'])\n",
      "('0.000', ['A', 'C'])\n",
      "('0.000', ['A', 'D'])\n",
      "('0.000', ['B', 'C'])\n",
      "('0.000', ['B', 'D'])\n",
      "('0.000', ['C', 'D'])\n",
      "\n",
      "Max score ('0.000', ['A', 'B'])\n"
     ]
    },
    {
     "data": {
      "text/plain": [
       "((frozenset({'A', 'B'}), 0.0),\n",
       " [frozenset({'B', 'C'}),\n",
       "  frozenset({'B', 'C'}),\n",
       "  frozenset({'B', 'C'}),\n",
       "  frozenset({'B', 'C'}),\n",
       "  frozenset({'B', 'C'}),\n",
       "  frozenset({'B', 'C'}),\n",
       "  frozenset({'B', 'C'}),\n",
       "  frozenset({'B', 'C'}),\n",
       "  frozenset({'B', 'C'}),\n",
       "  frozenset({'B', 'C'}),\n",
       "  frozenset({'B', 'C'}),\n",
       "  frozenset({'B', 'C'}),\n",
       "  frozenset({'B', 'C'}),\n",
       "  frozenset({'B', 'C'}),\n",
       "  frozenset({'B', 'C'}),\n",
       "  frozenset({'B', 'C'}),\n",
       "  frozenset({'B', 'C'}),\n",
       "  frozenset({'B', 'C'}),\n",
       "  frozenset({'B', 'C'}),\n",
       "  frozenset({'B', 'C'}),\n",
       "  frozenset({'B', 'C'}),\n",
       "  frozenset({'B', 'C'}),\n",
       "  frozenset({'B', 'C'}),\n",
       "  frozenset({'B', 'C'}),\n",
       "  frozenset({'B', 'C'}),\n",
       "  frozenset({'B', 'C'}),\n",
       "  frozenset({'B', 'C'}),\n",
       "  frozenset({'B', 'C'}),\n",
       "  frozenset({'B', 'C'}),\n",
       "  frozenset({'B', 'C'}),\n",
       "  frozenset({'B', 'C'}),\n",
       "  frozenset({'B', 'C'}),\n",
       "  frozenset({'B', 'C'}),\n",
       "  frozenset({'B', 'C'}),\n",
       "  frozenset({'B', 'C'}),\n",
       "  frozenset({'B', 'C'}),\n",
       "  frozenset({'B', 'C'}),\n",
       "  frozenset({'B', 'C'}),\n",
       "  frozenset({'B', 'C'}),\n",
       "  frozenset({'B', 'C'}),\n",
       "  frozenset({'B', 'C'}),\n",
       "  frozenset({'B', 'C'}),\n",
       "  frozenset({'B', 'C'}),\n",
       "  frozenset({'B', 'C'}),\n",
       "  frozenset({'B', 'C'}),\n",
       "  frozenset({'B', 'C'}),\n",
       "  frozenset({'B', 'C'}),\n",
       "  frozenset({'B', 'C'}),\n",
       "  frozenset({'B', 'C'}),\n",
       "  frozenset({'B', 'C'}),\n",
       "  frozenset({'B', 'C'}),\n",
       "  frozenset({'B', 'C'}),\n",
       "  frozenset({'B', 'C'}),\n",
       "  frozenset({'B', 'C'}),\n",
       "  frozenset({'B', 'C'}),\n",
       "  frozenset({'B', 'C'}),\n",
       "  frozenset({'B', 'C'}),\n",
       "  frozenset({'B', 'C'}),\n",
       "  frozenset({'B', 'C'}),\n",
       "  frozenset({'B', 'C'}),\n",
       "  frozenset({'B', 'C'}),\n",
       "  frozenset({'B', 'C'}),\n",
       "  frozenset({'B', 'C'}),\n",
       "  frozenset({'B', 'C'}),\n",
       "  frozenset({'B', 'C'}),\n",
       "  frozenset({'B', 'C'}),\n",
       "  frozenset({'B', 'C'}),\n",
       "  frozenset({'B', 'C'}),\n",
       "  frozenset({'B', 'C'}),\n",
       "  frozenset({'B', 'C'}),\n",
       "  frozenset({'B', 'C'}),\n",
       "  frozenset({'B', 'C'}),\n",
       "  frozenset({'B', 'C'}),\n",
       "  frozenset({'B', 'C'}),\n",
       "  frozenset({'B', 'C'}),\n",
       "  frozenset({'B', 'C'}),\n",
       "  frozenset({'B', 'C'}),\n",
       "  frozenset({'B', 'C'}),\n",
       "  frozenset({'B', 'C'}),\n",
       "  frozenset({'B', 'C'}),\n",
       "  frozenset({'B', 'C'}),\n",
       "  frozenset({'B', 'C'}),\n",
       "  frozenset({'B', 'C'}),\n",
       "  frozenset({'B', 'C'}),\n",
       "  frozenset({'B', 'C'}),\n",
       "  frozenset({'B', 'C'}),\n",
       "  frozenset({'B', 'C'}),\n",
       "  frozenset({'B', 'C'}),\n",
       "  frozenset({'B', 'C'}),\n",
       "  frozenset({'B', 'C'}),\n",
       "  frozenset({'B', 'C'}),\n",
       "  frozenset({'B', 'C'}),\n",
       "  frozenset({'B', 'C'}),\n",
       "  frozenset({'B', 'C'}),\n",
       "  frozenset({'B', 'C'}),\n",
       "  frozenset({'B', 'C'}),\n",
       "  frozenset({'B', 'C'}),\n",
       "  frozenset({'B', 'C'}),\n",
       "  frozenset({'B', 'C'}),\n",
       "  frozenset({'B', 'C'}),\n",
       "  frozenset({'B', 'C'}),\n",
       "  frozenset({'B', 'C'}),\n",
       "  frozenset({'B', 'C'}),\n",
       "  frozenset({'B', 'C'}),\n",
       "  frozenset({'B', 'C'}),\n",
       "  frozenset({'B', 'C'}),\n",
       "  frozenset({'B', 'C'}),\n",
       "  frozenset({'B', 'C'}),\n",
       "  frozenset({'B', 'C'}),\n",
       "  frozenset({'B', 'C'}),\n",
       "  frozenset({'B', 'C'}),\n",
       "  frozenset({'B', 'C'}),\n",
       "  frozenset({'B', 'C'}),\n",
       "  frozenset({'B', 'C'}),\n",
       "  frozenset({'B', 'C'}),\n",
       "  frozenset({'B', 'C'}),\n",
       "  frozenset({'B', 'C'}),\n",
       "  frozenset({'B', 'C'}),\n",
       "  frozenset({'B', 'C'}),\n",
       "  frozenset({'B', 'C'}),\n",
       "  frozenset({'B', 'C'}),\n",
       "  frozenset({'B', 'C'}),\n",
       "  frozenset({'B', 'C'}),\n",
       "  frozenset({'B', 'C'}),\n",
       "  frozenset({'B', 'C'}),\n",
       "  frozenset({'B', 'C'}),\n",
       "  frozenset({'B', 'C'}),\n",
       "  frozenset({'B', 'C'}),\n",
       "  frozenset({'B', 'C'}),\n",
       "  frozenset({'B', 'C'}),\n",
       "  frozenset({'B', 'C'}),\n",
       "  frozenset({'B', 'C'}),\n",
       "  frozenset({'B', 'C'}),\n",
       "  frozenset({'B', 'C'}),\n",
       "  frozenset({'B', 'C'}),\n",
       "  frozenset({'B', 'C'}),\n",
       "  frozenset({'B', 'C'}),\n",
       "  frozenset({'B', 'C'}),\n",
       "  frozenset({'B', 'C'}),\n",
       "  frozenset({'B', 'C'}),\n",
       "  frozenset({'B', 'C'}),\n",
       "  frozenset({'B', 'C'}),\n",
       "  frozenset({'B', 'C'}),\n",
       "  frozenset({'B', 'C'}),\n",
       "  frozenset({'B', 'C'}),\n",
       "  frozenset({'B', 'C'}),\n",
       "  frozenset({'B', 'C'}),\n",
       "  frozenset({'B', 'C'}),\n",
       "  frozenset({'B', 'C'}),\n",
       "  frozenset({'B', 'C'}),\n",
       "  frozenset({'B', 'C'}),\n",
       "  frozenset({'B', 'C'}),\n",
       "  frozenset({'B', 'C'}),\n",
       "  frozenset({'B', 'C'}),\n",
       "  frozenset({'B', 'C'}),\n",
       "  frozenset({'B', 'C'}),\n",
       "  frozenset({'B', 'C'}),\n",
       "  frozenset({'B', 'C'}),\n",
       "  frozenset({'B', 'C'}),\n",
       "  frozenset({'B', 'C'}),\n",
       "  frozenset({'B', 'C'}),\n",
       "  frozenset({'B', 'C'}),\n",
       "  frozenset({'B', 'C'}),\n",
       "  frozenset({'B', 'C'}),\n",
       "  frozenset({'B', 'C'}),\n",
       "  frozenset({'B', 'C'}),\n",
       "  frozenset({'B', 'C'}),\n",
       "  frozenset({'B', 'C'}),\n",
       "  frozenset({'B', 'C'}),\n",
       "  frozenset({'B', 'C'}),\n",
       "  frozenset({'B', 'C'}),\n",
       "  frozenset({'B', 'C'}),\n",
       "  frozenset({'B', 'C'}),\n",
       "  frozenset({'B', 'C'}),\n",
       "  frozenset({'B', 'C'}),\n",
       "  frozenset({'B', 'C'}),\n",
       "  frozenset({'B', 'C'}),\n",
       "  frozenset({'B', 'C'}),\n",
       "  frozenset({'B', 'C'}),\n",
       "  frozenset({'B', 'C'}),\n",
       "  frozenset({'B', 'C'}),\n",
       "  frozenset({'B', 'C'}),\n",
       "  frozenset({'B', 'C'}),\n",
       "  frozenset({'B', 'C'}),\n",
       "  frozenset({'B', 'C'}),\n",
       "  frozenset({'B', 'C'}),\n",
       "  frozenset({'B', 'C'}),\n",
       "  frozenset({'B', 'C'}),\n",
       "  frozenset({'B', 'C'}),\n",
       "  frozenset({'B', 'C'}),\n",
       "  frozenset({'B', 'C'}),\n",
       "  frozenset({'B', 'C'}),\n",
       "  frozenset({'B', 'C'}),\n",
       "  frozenset({'B', 'C'}),\n",
       "  frozenset({'B', 'C'}),\n",
       "  frozenset({'B', 'C'}),\n",
       "  frozenset({'B', 'C'}),\n",
       "  frozenset({'B', 'C'}),\n",
       "  frozenset({'B', 'C'}),\n",
       "  frozenset({'B', 'C'}),\n",
       "  frozenset({'B', 'C'}),\n",
       "  frozenset({'B', 'C'}),\n",
       "  frozenset({'B', 'C'}),\n",
       "  frozenset({'B', 'C'}),\n",
       "  frozenset({'B', 'C'}),\n",
       "  frozenset({'B', 'C'}),\n",
       "  frozenset({'B', 'C'}),\n",
       "  frozenset({'B', 'C'}),\n",
       "  frozenset({'B', 'C'}),\n",
       "  frozenset({'B', 'C'}),\n",
       "  frozenset({'B', 'C'}),\n",
       "  frozenset({'B', 'C'}),\n",
       "  frozenset({'B', 'C'}),\n",
       "  frozenset({'B', 'C'}),\n",
       "  frozenset({'B', 'C'}),\n",
       "  frozenset({'B', 'C'}),\n",
       "  frozenset({'B', 'C'}),\n",
       "  frozenset({'B', 'C'}),\n",
       "  frozenset({'B', 'C'}),\n",
       "  frozenset({'B', 'C'}),\n",
       "  frozenset({'B', 'C'}),\n",
       "  frozenset({'B', 'C'}),\n",
       "  frozenset({'B', 'C'}),\n",
       "  frozenset({'B', 'C'}),\n",
       "  frozenset({'B', 'C'}),\n",
       "  frozenset({'B', 'C'}),\n",
       "  frozenset({'B', 'C'}),\n",
       "  frozenset({'B', 'C'}),\n",
       "  frozenset({'B', 'C'}),\n",
       "  frozenset({'B', 'C'}),\n",
       "  frozenset({'B', 'C'}),\n",
       "  frozenset({'B', 'C'}),\n",
       "  frozenset({'B', 'C'}),\n",
       "  frozenset({'B', 'C'}),\n",
       "  frozenset({'B', 'C'}),\n",
       "  frozenset({'B', 'C'}),\n",
       "  frozenset({'B', 'C'}),\n",
       "  frozenset({'B', 'C'}),\n",
       "  frozenset({'B', 'C'}),\n",
       "  frozenset({'B', 'C'}),\n",
       "  frozenset({'B', 'C'}),\n",
       "  frozenset({'B', 'C'}),\n",
       "  frozenset({'B', 'C'}),\n",
       "  frozenset({'B', 'C'}),\n",
       "  frozenset({'B', 'C'}),\n",
       "  frozenset({'B', 'C'}),\n",
       "  frozenset({'B', 'C'}),\n",
       "  frozenset({'B', 'C'}),\n",
       "  frozenset({'B', 'C'}),\n",
       "  frozenset({'B', 'C'}),\n",
       "  frozenset({'B', 'C'}),\n",
       "  frozenset({'B', 'C'}),\n",
       "  frozenset({'B', 'C'}),\n",
       "  frozenset({'B', 'C'}),\n",
       "  frozenset({'B', 'C'}),\n",
       "  frozenset({'B', 'C'}),\n",
       "  frozenset({'B', 'C'}),\n",
       "  frozenset({'B', 'C'}),\n",
       "  frozenset({'B', 'C'}),\n",
       "  frozenset({'B', 'C'}),\n",
       "  frozenset({'B', 'C'}),\n",
       "  frozenset({'B', 'C'}),\n",
       "  frozenset({'B', 'C'}),\n",
       "  frozenset({'B', 'C'}),\n",
       "  frozenset({'B', 'C'}),\n",
       "  frozenset({'B', 'C'}),\n",
       "  frozenset({'B', 'C'}),\n",
       "  frozenset({'B', 'C'}),\n",
       "  frozenset({'B', 'C'}),\n",
       "  frozenset({'B', 'C'}),\n",
       "  frozenset({'B', 'C'}),\n",
       "  frozenset({'B', 'C'}),\n",
       "  frozenset({'B', 'C'}),\n",
       "  frozenset({'B', 'C'}),\n",
       "  frozenset({'B', 'C'}),\n",
       "  frozenset({'B', 'C'}),\n",
       "  frozenset({'B', 'C'}),\n",
       "  frozenset({'B', 'C'}),\n",
       "  frozenset({'B', 'C'}),\n",
       "  frozenset({'B', 'C'}),\n",
       "  frozenset({'B', 'C'}),\n",
       "  frozenset({'B', 'C'}),\n",
       "  frozenset({'B', 'C'}),\n",
       "  frozenset({'B', 'C'}),\n",
       "  frozenset({'B', 'C'}),\n",
       "  frozenset({'B', 'C'}),\n",
       "  frozenset({'B', 'C'}),\n",
       "  frozenset({'B', 'C'}),\n",
       "  frozenset({'B', 'C'}),\n",
       "  frozenset({'B', 'C'}),\n",
       "  frozenset({'B', 'C'}),\n",
       "  frozenset({'B', 'C'}),\n",
       "  frozenset({'B', 'C'}),\n",
       "  frozenset({'B', 'C'}),\n",
       "  frozenset({'B', 'C'}),\n",
       "  frozenset({'B', 'C'}),\n",
       "  frozenset({'B', 'C'}),\n",
       "  frozenset({'B', 'C'}),\n",
       "  frozenset({'B', 'C'}),\n",
       "  frozenset({'B', 'C'}),\n",
       "  frozenset({'B', 'C'}),\n",
       "  frozenset({'B', 'C'}),\n",
       "  frozenset({'B', 'C'}),\n",
       "  frozenset({'B', 'C'}),\n",
       "  frozenset({'B', 'C'}),\n",
       "  frozenset({'B', 'C'}),\n",
       "  frozenset({'B', 'C'}),\n",
       "  frozenset({'B', 'C'}),\n",
       "  frozenset({'B', 'C'}),\n",
       "  frozenset({'B', 'C'}),\n",
       "  frozenset({'B', 'C'}),\n",
       "  frozenset({'B', 'C'}),\n",
       "  frozenset({'B', 'C'}),\n",
       "  frozenset({'B', 'C'}),\n",
       "  frozenset({'B', 'C'}),\n",
       "  frozenset({'B', 'C'}),\n",
       "  frozenset({'B', 'C'}),\n",
       "  frozenset({'B', 'C'}),\n",
       "  frozenset({'B', 'C'}),\n",
       "  frozenset({'B', 'C'}),\n",
       "  frozenset({'B', 'C'}),\n",
       "  frozenset({'B', 'C'}),\n",
       "  frozenset({'B', 'C'}),\n",
       "  frozenset({'B', 'C'}),\n",
       "  frozenset({'B', 'C'}),\n",
       "  frozenset({'B', 'C'}),\n",
       "  frozenset({'B', 'C'}),\n",
       "  frozenset({'B', 'C'}),\n",
       "  frozenset({'B', 'C'}),\n",
       "  frozenset({'B', 'C'}),\n",
       "  frozenset({'B', 'C'}),\n",
       "  frozenset({'B', 'C'}),\n",
       "  frozenset({'B', 'C'}),\n",
       "  frozenset({'B', 'C'}),\n",
       "  frozenset({'B', 'C'}),\n",
       "  frozenset({'B', 'C'}),\n",
       "  frozenset({'B', 'C'}),\n",
       "  frozenset({'B', 'C'}),\n",
       "  frozenset({'B', 'C'}),\n",
       "  frozenset({'B', 'C'}),\n",
       "  frozenset({'B', 'C'}),\n",
       "  frozenset({'B', 'C'}),\n",
       "  frozenset({'B', 'C'}),\n",
       "  frozenset({'B', 'C'}),\n",
       "  frozenset({'B', 'C'}),\n",
       "  frozenset({'B', 'C'}),\n",
       "  frozenset({'B', 'C'}),\n",
       "  frozenset({'B', 'C'}),\n",
       "  frozenset({'B', 'C'}),\n",
       "  frozenset({'B', 'C'}),\n",
       "  frozenset({'B', 'C'}),\n",
       "  frozenset({'B', 'C'}),\n",
       "  frozenset({'B', 'C'}),\n",
       "  frozenset({'B', 'C'}),\n",
       "  frozenset({'B', 'C'}),\n",
       "  frozenset({'B', 'C'}),\n",
       "  frozenset({'B', 'C'}),\n",
       "  frozenset({'B', 'C'}),\n",
       "  frozenset({'B', 'C'}),\n",
       "  frozenset({'B', 'C'}),\n",
       "  frozenset({'B', 'C'}),\n",
       "  frozenset({'B', 'C'}),\n",
       "  frozenset({'B', 'C'}),\n",
       "  frozenset({'B', 'C'}),\n",
       "  frozenset({'B', 'C'}),\n",
       "  frozenset({'B', 'C'}),\n",
       "  frozenset({'B', 'C'}),\n",
       "  frozenset({'B', 'C'}),\n",
       "  frozenset({'B', 'C'}),\n",
       "  frozenset({'B', 'C'}),\n",
       "  frozenset({'B', 'C'}),\n",
       "  frozenset({'B', 'C'}),\n",
       "  frozenset({'B', 'C'}),\n",
       "  frozenset({'B', 'C'}),\n",
       "  frozenset({'B', 'C'}),\n",
       "  frozenset({'B', 'C'}),\n",
       "  frozenset({'B', 'C'}),\n",
       "  frozenset({'B', 'C'}),\n",
       "  frozenset({'B', 'C'}),\n",
       "  frozenset({'B', 'C'}),\n",
       "  frozenset({'B', 'C'}),\n",
       "  frozenset({'B', 'C'}),\n",
       "  frozenset({'B', 'C'}),\n",
       "  frozenset({'B', 'C'}),\n",
       "  frozenset({'B', 'C'}),\n",
       "  frozenset({'B', 'C'}),\n",
       "  frozenset({'B', 'C'}),\n",
       "  frozenset({'B', 'C'}),\n",
       "  frozenset({'B', 'C'}),\n",
       "  frozenset({'B', 'C'}),\n",
       "  frozenset({'B', 'C'}),\n",
       "  frozenset({'B', 'C'}),\n",
       "  frozenset({'B', 'C'}),\n",
       "  frozenset({'B', 'C'}),\n",
       "  frozenset({'B', 'C'}),\n",
       "  frozenset({'B', 'C'}),\n",
       "  frozenset({'B', 'C'}),\n",
       "  frozenset({'B', 'C'}),\n",
       "  frozenset({'B', 'C'}),\n",
       "  frozenset({'B', 'C'}),\n",
       "  frozenset({'B', 'C'}),\n",
       "  frozenset({'B', 'C'}),\n",
       "  frozenset({'B', 'C'}),\n",
       "  frozenset({'B', 'C'}),\n",
       "  frozenset({'B', 'C'}),\n",
       "  frozenset({'B', 'C'}),\n",
       "  frozenset({'B', 'C'}),\n",
       "  frozenset({'B', 'C'}),\n",
       "  frozenset({'B', 'C'}),\n",
       "  frozenset({'B', 'C'}),\n",
       "  frozenset({'B', 'C'}),\n",
       "  frozenset({'B', 'C'}),\n",
       "  frozenset({'B', 'C'}),\n",
       "  frozenset({'B', 'C'}),\n",
       "  frozenset({'B', 'C'}),\n",
       "  frozenset({'B', 'C'}),\n",
       "  frozenset({'B', 'C'}),\n",
       "  frozenset({'B', 'C'}),\n",
       "  frozenset({'B', 'C'}),\n",
       "  frozenset({'B', 'C'}),\n",
       "  frozenset({'B', 'C'}),\n",
       "  frozenset({'B', 'C'}),\n",
       "  frozenset({'B', 'C'}),\n",
       "  frozenset({'B', 'C'}),\n",
       "  frozenset({'B', 'C'}),\n",
       "  frozenset({'B', 'C'}),\n",
       "  frozenset({'B', 'C'}),\n",
       "  frozenset({'B', 'C'}),\n",
       "  frozenset({'B', 'C'}),\n",
       "  frozenset({'B', 'C'}),\n",
       "  frozenset({'B', 'C'}),\n",
       "  frozenset({'B', 'C'}),\n",
       "  frozenset({'B', 'C'}),\n",
       "  frozenset({'B', 'C'}),\n",
       "  frozenset({'B', 'C'}),\n",
       "  frozenset({'B', 'C'}),\n",
       "  frozenset({'B', 'C'}),\n",
       "  frozenset({'B', 'C'}),\n",
       "  frozenset({'B', 'C'}),\n",
       "  frozenset({'B', 'C'}),\n",
       "  frozenset({'B', 'C'}),\n",
       "  frozenset({'B', 'C'}),\n",
       "  frozenset({'B', 'C'}),\n",
       "  frozenset({'B', 'C'}),\n",
       "  frozenset({'B', 'C'}),\n",
       "  frozenset({'B', 'C'}),\n",
       "  frozenset({'B', 'C'}),\n",
       "  frozenset({'B', 'C'}),\n",
       "  frozenset({'B', 'C'}),\n",
       "  frozenset({'B', 'C'}),\n",
       "  frozenset({'B', 'C'}),\n",
       "  frozenset({'B', 'C'}),\n",
       "  frozenset({'B', 'C'}),\n",
       "  frozenset({'B', 'C'}),\n",
       "  frozenset({'B', 'C'}),\n",
       "  frozenset({'B', 'C'}),\n",
       "  frozenset({'B', 'C'}),\n",
       "  frozenset({'B', 'C'}),\n",
       "  frozenset({'B', 'C'}),\n",
       "  frozenset({'B', 'C'}),\n",
       "  frozenset({'B', 'C'}),\n",
       "  frozenset({'B', 'C'}),\n",
       "  frozenset({'B', 'C'}),\n",
       "  frozenset({'B', 'C'}),\n",
       "  frozenset({'B', 'C'}),\n",
       "  frozenset({'B', 'C'}),\n",
       "  frozenset({'B', 'C'}),\n",
       "  frozenset({'B', 'C'}),\n",
       "  frozenset({'B', 'C'}),\n",
       "  frozenset({'B', 'C'}),\n",
       "  frozenset({'B', 'C'}),\n",
       "  frozenset({'B', 'C'}),\n",
       "  frozenset({'B', 'C'}),\n",
       "  frozenset({'B', 'C'}),\n",
       "  frozenset({'B', 'C'}),\n",
       "  frozenset({'B', 'C'}),\n",
       "  frozenset({'B', 'C'}),\n",
       "  frozenset({'B', 'C'}),\n",
       "  frozenset({'B', 'C'}),\n",
       "  frozenset({'B', 'C'}),\n",
       "  frozenset({'B', 'C'}),\n",
       "  frozenset({'B', 'C'}),\n",
       "  frozenset({'B', 'C'}),\n",
       "  frozenset({'B', 'C'}),\n",
       "  frozenset({'B', 'C'}),\n",
       "  frozenset({'B', 'C'}),\n",
       "  frozenset({'B', 'C'}),\n",
       "  frozenset({'B', 'C'}),\n",
       "  frozenset({'B', 'C'}),\n",
       "  frozenset({'B', 'C'}),\n",
       "  frozenset({'B', 'C'}),\n",
       "  frozenset({'B', 'C'}),\n",
       "  frozenset({'B', 'C'}),\n",
       "  frozenset({'B', 'C'}),\n",
       "  frozenset({'B', 'C'}),\n",
       "  frozenset({'B', 'C'}),\n",
       "  frozenset({'B', 'C'}),\n",
       "  frozenset({'B', 'C'}),\n",
       "  frozenset({'B', 'C'}),\n",
       "  frozenset({'B', 'C'}),\n",
       "  frozenset({'B', 'C'}),\n",
       "  frozenset({'B', 'C'}),\n",
       "  frozenset({'B', 'C'}),\n",
       "  frozenset({'B', 'C'}),\n",
       "  frozenset({'B', 'C'}),\n",
       "  frozenset({'B', 'C'}),\n",
       "  frozenset({'B', 'C'}),\n",
       "  frozenset({'B', 'C'}),\n",
       "  frozenset({'B', 'C'}),\n",
       "  frozenset({'B', 'C'}),\n",
       "  frozenset({'B', 'C'}),\n",
       "  frozenset({'B', 'C'}),\n",
       "  frozenset({'B', 'C'}),\n",
       "  frozenset({'B', 'C'}),\n",
       "  frozenset({'B', 'C'}),\n",
       "  frozenset({'B', 'C'}),\n",
       "  frozenset({'B', 'C'}),\n",
       "  frozenset({'B', 'C'}),\n",
       "  frozenset({'B', 'C'}),\n",
       "  frozenset({'B', 'C'}),\n",
       "  frozenset({'B', 'C'}),\n",
       "  frozenset({'B', 'C'}),\n",
       "  frozenset({'B', 'C'}),\n",
       "  frozenset({'B', 'C'}),\n",
       "  frozenset({'B', 'C'}),\n",
       "  frozenset({'B', 'C'}),\n",
       "  frozenset({'B', 'C'}),\n",
       "  frozenset({'B', 'C'}),\n",
       "  frozenset({'B', 'C'}),\n",
       "  frozenset({'B', 'C'}),\n",
       "  frozenset({'B', 'C'}),\n",
       "  frozenset({'B', 'C'}),\n",
       "  frozenset({'B', 'C'}),\n",
       "  frozenset({'B', 'C'}),\n",
       "  frozenset({'B', 'C'}),\n",
       "  frozenset({'B', 'C'}),\n",
       "  frozenset({'B', 'C'}),\n",
       "  frozenset({'B', 'C'}),\n",
       "  frozenset({'B', 'C'}),\n",
       "  frozenset({'B', 'C'}),\n",
       "  frozenset({'B', 'C'}),\n",
       "  frozenset({'B', 'C'}),\n",
       "  frozenset({'B', 'C'}),\n",
       "  frozenset({'B', 'C'}),\n",
       "  frozenset({'B', 'C'}),\n",
       "  frozenset({'B', 'C'}),\n",
       "  frozenset({'B', 'C'}),\n",
       "  frozenset({'B', 'C'}),\n",
       "  frozenset({'B', 'C'}),\n",
       "  frozenset({'B', 'C'}),\n",
       "  frozenset({'B', 'C'}),\n",
       "  frozenset({'B', 'C'}),\n",
       "  frozenset({'B', 'C'}),\n",
       "  frozenset({'B', 'C'}),\n",
       "  frozenset({'B', 'C'}),\n",
       "  frozenset({'B', 'C'}),\n",
       "  frozenset({'B', 'C'}),\n",
       "  frozenset({'B', 'C'}),\n",
       "  frozenset({'B', 'C'}),\n",
       "  frozenset({'B', 'C'}),\n",
       "  frozenset({'B', 'C'}),\n",
       "  frozenset({'B', 'C'}),\n",
       "  frozenset({'B', 'C'}),\n",
       "  frozenset({'B', 'C'}),\n",
       "  frozenset({'B', 'C'}),\n",
       "  frozenset({'B', 'C'}),\n",
       "  frozenset({'B', 'C'}),\n",
       "  frozenset({'B', 'C'}),\n",
       "  frozenset({'B', 'C'}),\n",
       "  frozenset({'B', 'C'}),\n",
       "  frozenset({'B', 'C'}),\n",
       "  frozenset({'B', 'C'}),\n",
       "  frozenset({'B', 'C'}),\n",
       "  frozenset({'B', 'C'}),\n",
       "  frozenset({'B', 'C'}),\n",
       "  frozenset({'B', 'C'}),\n",
       "  frozenset({'B', 'C'}),\n",
       "  frozenset({'B', 'C'}),\n",
       "  frozenset({'B', 'C'}),\n",
       "  frozenset({'B', 'C'}),\n",
       "  frozenset({'B', 'C'}),\n",
       "  frozenset({'B', 'C'}),\n",
       "  frozenset({'B', 'C'}),\n",
       "  frozenset({'B', 'C'}),\n",
       "  frozenset({'B', 'C'}),\n",
       "  frozenset({'B', 'C'}),\n",
       "  frozenset({'B', 'C'}),\n",
       "  frozenset({'B', 'C'}),\n",
       "  frozenset({'B', 'C'}),\n",
       "  frozenset({'B', 'C'}),\n",
       "  frozenset({'B', 'C'}),\n",
       "  frozenset({'B', 'C'}),\n",
       "  frozenset({'B', 'C'}),\n",
       "  frozenset({'B', 'C'}),\n",
       "  frozenset({'B', 'C'}),\n",
       "  frozenset({'B', 'C'}),\n",
       "  frozenset({'B', 'C'}),\n",
       "  frozenset({'B', 'C'}),\n",
       "  frozenset({'B', 'C'}),\n",
       "  frozenset({'B', 'C'}),\n",
       "  frozenset({'B', 'C'}),\n",
       "  frozenset({'B', 'C'}),\n",
       "  frozenset({'B', 'C'}),\n",
       "  frozenset({'B', 'C'}),\n",
       "  frozenset({'B', 'C'}),\n",
       "  frozenset({'B', 'C'}),\n",
       "  frozenset({'B', 'C'}),\n",
       "  frozenset({'B', 'C'}),\n",
       "  frozenset({'B', 'C'}),\n",
       "  frozenset({'B', 'C'}),\n",
       "  frozenset({'B', 'C'}),\n",
       "  frozenset({'B', 'C'}),\n",
       "  frozenset({'B', 'C'}),\n",
       "  frozenset({'B', 'C'}),\n",
       "  frozenset({'B', 'C'}),\n",
       "  frozenset({'B', 'C'}),\n",
       "  frozenset({'B', 'C'}),\n",
       "  frozenset({'B', 'C'}),\n",
       "  frozenset({'B', 'C'}),\n",
       "  frozenset({'B', 'C'}),\n",
       "  frozenset({'B', 'C'}),\n",
       "  frozenset({'B', 'C'}),\n",
       "  frozenset({'B', 'C'}),\n",
       "  frozenset({'B', 'C'}),\n",
       "  frozenset({'B', 'C'}),\n",
       "  frozenset({'B', 'C'}),\n",
       "  frozenset({'B', 'C'}),\n",
       "  frozenset({'B', 'C'}),\n",
       "  frozenset({'B', 'C'}),\n",
       "  frozenset({'B', 'C'}),\n",
       "  frozenset({'B', 'C'}),\n",
       "  frozenset({'B', 'C'}),\n",
       "  frozenset({'B', 'C'}),\n",
       "  frozenset({'B', 'C'}),\n",
       "  frozenset({'B', 'C'}),\n",
       "  frozenset({'B', 'C'}),\n",
       "  frozenset({'B', 'C'}),\n",
       "  frozenset({'B', 'C'}),\n",
       "  frozenset({'B', 'C'}),\n",
       "  frozenset({'B', 'C'}),\n",
       "  frozenset({'B', 'C'}),\n",
       "  frozenset({'B', 'C'}),\n",
       "  frozenset({'B', 'C'}),\n",
       "  frozenset({'B', 'C'}),\n",
       "  frozenset({'B', 'C'}),\n",
       "  frozenset({'B', 'C'}),\n",
       "  frozenset({'B', 'C'}),\n",
       "  frozenset({'B', 'C'}),\n",
       "  frozenset({'B', 'C'}),\n",
       "  frozenset({'B', 'C'}),\n",
       "  frozenset({'B', 'C'}),\n",
       "  frozenset({'B', 'C'}),\n",
       "  frozenset({'B', 'C'}),\n",
       "  frozenset({'B', 'C'}),\n",
       "  frozenset({'B', 'C'}),\n",
       "  frozenset({'B', 'C'}),\n",
       "  frozenset({'B', 'C'}),\n",
       "  frozenset({'B', 'C'}),\n",
       "  frozenset({'B', 'C'}),\n",
       "  frozenset({'B', 'C'}),\n",
       "  frozenset({'B', 'C'}),\n",
       "  frozenset({'B', 'C'}),\n",
       "  frozenset({'B', 'C'}),\n",
       "  frozenset({'B', 'C'}),\n",
       "  frozenset({'B', 'C'}),\n",
       "  frozenset({'B', 'C'}),\n",
       "  frozenset({'B', 'C'}),\n",
       "  frozenset({'B', 'C'}),\n",
       "  frozenset({'B', 'C'}),\n",
       "  frozenset({'B', 'C'}),\n",
       "  frozenset({'B', 'C'}),\n",
       "  frozenset({'B', 'C'}),\n",
       "  frozenset({'B', 'C'}),\n",
       "  frozenset({'B', 'C'}),\n",
       "  frozenset({'B', 'C'}),\n",
       "  frozenset({'B', 'C'}),\n",
       "  frozenset({'B', 'C'}),\n",
       "  frozenset({'B', 'C'}),\n",
       "  frozenset({'B', 'C'}),\n",
       "  frozenset({'B', 'C'}),\n",
       "  frozenset({'B', 'C'}),\n",
       "  frozenset({'B', 'C'}),\n",
       "  frozenset({'B', 'C'}),\n",
       "  frozenset({'B', 'C'}),\n",
       "  frozenset({'B', 'C'}),\n",
       "  frozenset({'B', 'C'}),\n",
       "  frozenset({'B', 'C'}),\n",
       "  frozenset({'B', 'C'}),\n",
       "  frozenset({'B', 'C'}),\n",
       "  frozenset({'B', 'C'}),\n",
       "  frozenset({'B', 'C'}),\n",
       "  frozenset({'B', 'C'}),\n",
       "  frozenset({'B', 'C'}),\n",
       "  frozenset({'B', 'C'}),\n",
       "  frozenset({'B', 'C'}),\n",
       "  frozenset({'B', 'C'}),\n",
       "  frozenset({'B', 'C'}),\n",
       "  frozenset({'B', 'C'}),\n",
       "  frozenset({'B', 'C'}),\n",
       "  frozenset({'B', 'C'}),\n",
       "  frozenset({'B', 'C'}),\n",
       "  frozenset({'B', 'C'}),\n",
       "  frozenset({'B', 'C'}),\n",
       "  frozenset({'B', 'C'}),\n",
       "  frozenset({'B', 'C'}),\n",
       "  frozenset({'B', 'C'}),\n",
       "  frozenset({'B', 'C'}),\n",
       "  frozenset({'B', 'C'}),\n",
       "  frozenset({'B', 'C'}),\n",
       "  frozenset({'B', 'C'}),\n",
       "  frozenset({'B', 'C'}),\n",
       "  frozenset({'B', 'C'}),\n",
       "  frozenset({'B', 'C'}),\n",
       "  frozenset({'B', 'C'}),\n",
       "  frozenset({'B', 'C'}),\n",
       "  frozenset({'B', 'C'}),\n",
       "  frozenset({'B', 'C'}),\n",
       "  frozenset({'B', 'C'}),\n",
       "  frozenset({'B', 'C'}),\n",
       "  frozenset({'B', 'C'}),\n",
       "  frozenset({'B', 'C'}),\n",
       "  frozenset({'B', 'C'}),\n",
       "  frozenset({'B', 'C'}),\n",
       "  frozenset({'B', 'C'}),\n",
       "  frozenset({'B', 'C'}),\n",
       "  frozenset({'B', 'C'}),\n",
       "  frozenset({'B', 'C'}),\n",
       "  frozenset({'B', 'C'}),\n",
       "  frozenset({'B', 'C'}),\n",
       "  frozenset({'B', 'C'}),\n",
       "  frozenset({'B', 'C'}),\n",
       "  frozenset({'B', 'C'}),\n",
       "  frozenset({'B', 'C'}),\n",
       "  frozenset({'B', 'C'}),\n",
       "  frozenset({'B', 'C'}),\n",
       "  frozenset({'B', 'C'}),\n",
       "  frozenset({'B', 'C'}),\n",
       "  frozenset({'B', 'C'}),\n",
       "  frozenset({'B', 'C'}),\n",
       "  frozenset({'B', 'C'}),\n",
       "  frozenset({'B', 'C'}),\n",
       "  frozenset({'B', 'C'}),\n",
       "  frozenset({'B', 'C'}),\n",
       "  frozenset({'B', 'C'}),\n",
       "  frozenset({'B', 'C'}),\n",
       "  frozenset({'B', 'C'}),\n",
       "  frozenset({'B', 'C'}),\n",
       "  frozenset({'B', 'C'}),\n",
       "  frozenset({'B', 'C'}),\n",
       "  frozenset({'B', 'C'}),\n",
       "  frozenset({'B', 'C'}),\n",
       "  frozenset({'B', 'C'}),\n",
       "  frozenset({'B', 'C'}),\n",
       "  frozenset({'B', 'C'}),\n",
       "  frozenset({'B', 'C'}),\n",
       "  frozenset({'B', 'C'}),\n",
       "  frozenset({'B', 'C'}),\n",
       "  frozenset({'B', 'C'}),\n",
       "  frozenset({'B', 'C'}),\n",
       "  frozenset({'B', 'C'}),\n",
       "  frozenset({'B', 'C'}),\n",
       "  frozenset({'B', 'C'}),\n",
       "  frozenset({'B', 'C'}),\n",
       "  frozenset({'B', 'C'}),\n",
       "  frozenset({'B', 'C'}),\n",
       "  frozenset({'B', 'C'}),\n",
       "  frozenset({'B', 'C'}),\n",
       "  frozenset({'B', 'C'}),\n",
       "  frozenset({'B', 'C'}),\n",
       "  frozenset({'B', 'C'}),\n",
       "  frozenset({'B', 'C'}),\n",
       "  frozenset({'B', 'C'}),\n",
       "  frozenset({'B', 'C'}),\n",
       "  frozenset({'B', 'C'}),\n",
       "  frozenset({'B', 'C'}),\n",
       "  frozenset({'B', 'C'}),\n",
       "  frozenset({'B', 'C'}),\n",
       "  frozenset({'B', 'C'}),\n",
       "  frozenset({'B', 'C'}),\n",
       "  frozenset({'B', 'C'}),\n",
       "  frozenset({'B', 'C'}),\n",
       "  frozenset({'B', 'C'}),\n",
       "  frozenset({'B', 'C'}),\n",
       "  frozenset({'B', 'C'}),\n",
       "  frozenset({'B', 'C'}),\n",
       "  frozenset({'B', 'C'}),\n",
       "  frozenset({'B', 'C'}),\n",
       "  frozenset({'B', 'C'}),\n",
       "  frozenset({'B', 'C'}),\n",
       "  frozenset({'B', 'C'}),\n",
       "  frozenset({'B', 'C'}),\n",
       "  frozenset({'B', 'C'}),\n",
       "  frozenset({'B', 'C'}),\n",
       "  frozenset({'B', 'C'}),\n",
       "  frozenset({'B', 'C'}),\n",
       "  frozenset({'B', 'C'}),\n",
       "  frozenset({'B', 'C'}),\n",
       "  frozenset({'B', 'C'}),\n",
       "  frozenset({'B', 'C'}),\n",
       "  frozenset({'B', 'C'}),\n",
       "  frozenset({'B', 'C'}),\n",
       "  frozenset({'B', 'C'}),\n",
       "  frozenset({'B', 'C'}),\n",
       "  frozenset({'B', 'C'}),\n",
       "  frozenset({'B', 'C'}),\n",
       "  frozenset({'B', 'C'}),\n",
       "  frozenset({'B', 'C'}),\n",
       "  frozenset({'B', 'C'}),\n",
       "  frozenset({'B', 'C'}),\n",
       "  frozenset({'B', 'C'}),\n",
       "  frozenset({'B', 'C'}),\n",
       "  frozenset({'B', 'C'}),\n",
       "  frozenset({'B', 'C'}),\n",
       "  frozenset({'B', 'C'}),\n",
       "  frozenset({'B', 'C'}),\n",
       "  frozenset({'B', 'C'}),\n",
       "  frozenset({'B', 'C'}),\n",
       "  frozenset({'B', 'C'}),\n",
       "  frozenset({'B', 'C'}),\n",
       "  frozenset({'B', 'C'}),\n",
       "  frozenset({'B', 'C'}),\n",
       "  frozenset({'B', 'C'}),\n",
       "  frozenset({'B', 'C'}),\n",
       "  frozenset({'B', 'C'}),\n",
       "  frozenset({'B', 'C'}),\n",
       "  frozenset({'B', 'C'}),\n",
       "  frozenset({'B', 'C'}),\n",
       "  frozenset({'B', 'C'}),\n",
       "  frozenset({'B', 'C'}),\n",
       "  frozenset({'B', 'C'}),\n",
       "  frozenset({'B', 'C'}),\n",
       "  frozenset({'B', 'C'}),\n",
       "  frozenset({'B', 'C'}),\n",
       "  frozenset({'B', 'C'}),\n",
       "  frozenset({'B', 'C'}),\n",
       "  frozenset({'B', 'C'}),\n",
       "  frozenset({'B', 'C'}),\n",
       "  frozenset({'B', 'C'}),\n",
       "  frozenset({'B', 'C'}),\n",
       "  frozenset({'B', 'C'}),\n",
       "  frozenset({'B', 'C'}),\n",
       "  frozenset({'B', 'C'}),\n",
       "  frozenset({'B', 'C'}),\n",
       "  frozenset({'B', 'C'}),\n",
       "  frozenset({'B', 'C'}),\n",
       "  frozenset({'B', 'C'}),\n",
       "  frozenset({'B', 'C'}),\n",
       "  frozenset({'B', 'C'}),\n",
       "  frozenset({'B', 'C'}),\n",
       "  frozenset({'B', 'C'}),\n",
       "  frozenset({'B', 'C'}),\n",
       "  frozenset({'B', 'C'}),\n",
       "  frozenset({'B', 'C'}),\n",
       "  frozenset({'B', 'C'}),\n",
       "  frozenset({'B', 'C'}),\n",
       "  frozenset({'B', 'C'}),\n",
       "  frozenset({'B', 'C'}),\n",
       "  frozenset({'B', 'C'}),\n",
       "  frozenset({'B', 'C'}),\n",
       "  frozenset({'B', 'C'}),\n",
       "  frozenset({'B', 'C'}),\n",
       "  frozenset({'B', 'C'}),\n",
       "  frozenset({'B', 'C'}),\n",
       "  frozenset({'B', 'C'}),\n",
       "  frozenset({'B', 'C'}),\n",
       "  frozenset({'B', 'C'}),\n",
       "  frozenset({'B', 'C'}),\n",
       "  frozenset({'B', 'C'}),\n",
       "  frozenset({'B', 'C'}),\n",
       "  frozenset({'B', 'C'}),\n",
       "  frozenset({'B', 'C'}),\n",
       "  frozenset({'B', 'C'}),\n",
       "  frozenset({'B', 'C'}),\n",
       "  frozenset({'B', 'C'}),\n",
       "  frozenset({'B', 'C'}),\n",
       "  frozenset({'B', 'C'}),\n",
       "  frozenset({'B', 'C'}),\n",
       "  frozenset({'B', 'C'}),\n",
       "  frozenset({'B', 'C'}),\n",
       "  frozenset({'B', 'C'}),\n",
       "  frozenset({'B', 'C'}),\n",
       "  frozenset({'B', 'C'}),\n",
       "  frozenset({'B', 'C'}),\n",
       "  frozenset({'B', 'C'}),\n",
       "  frozenset({'B', 'C'}),\n",
       "  frozenset({'B', 'C'}),\n",
       "  frozenset({'B', 'C'}),\n",
       "  frozenset({'B', 'C'}),\n",
       "  frozenset({'B', 'C'}),\n",
       "  frozenset({'B', 'C'}),\n",
       "  frozenset({'B', 'C'}),\n",
       "  frozenset({'B', 'C'}),\n",
       "  frozenset({'B', 'C'}),\n",
       "  frozenset({'B', 'C'}),\n",
       "  frozenset({'B', 'C'}),\n",
       "  frozenset({'B', 'C'}),\n",
       "  frozenset({'B', 'C'}),\n",
       "  frozenset({'B', 'C'}),\n",
       "  frozenset({'B', 'C'}),\n",
       "  frozenset({'B', 'C'}),\n",
       "  frozenset({'B', 'C'}),\n",
       "  frozenset({'B', 'C'}),\n",
       "  frozenset({'B', 'C'}),\n",
       "  frozenset({'B', 'C'}),\n",
       "  frozenset({'B', 'C'}),\n",
       "  frozenset({'B', 'C'}),\n",
       "  frozenset({'B', 'C'}),\n",
       "  frozenset({'B', 'C'}),\n",
       "  frozenset({'B', 'C'}),\n",
       "  frozenset({'B', 'C'}),\n",
       "  frozenset({'B', 'C'}),\n",
       "  frozenset({'B', 'C'}),\n",
       "  frozenset({'B', 'C'}),\n",
       "  frozenset({'B', 'C'}),\n",
       "  frozenset({'B', 'C'}),\n",
       "  frozenset({'B', 'C'}),\n",
       "  frozenset({'B', 'C'}),\n",
       "  frozenset({'B', 'C'}),\n",
       "  frozenset({'B', 'C'}),\n",
       "  frozenset({'B', 'C'}),\n",
       "  frozenset({'B', 'C'}),\n",
       "  frozenset({'B', 'C'}),\n",
       "  frozenset({'B', 'C'}),\n",
       "  frozenset({'B', 'C'}),\n",
       "  frozenset({'B', 'C'}),\n",
       "  frozenset({'B', 'C'}),\n",
       "  frozenset({'B', 'C'}),\n",
       "  frozenset({'B', 'C'}),\n",
       "  frozenset({'B', 'C'}),\n",
       "  frozenset({'B', 'C'}),\n",
       "  frozenset({'B', 'C'}),\n",
       "  frozenset({'B', 'C'}),\n",
       "  frozenset({'B', 'C'}),\n",
       "  frozenset({'B', 'C'}),\n",
       "  frozenset({'B', 'C'}),\n",
       "  frozenset({'B', 'C'}),\n",
       "  frozenset({'B', 'C'}),\n",
       "  frozenset({'B', 'C'}),\n",
       "  frozenset({'B', 'C'}),\n",
       "  frozenset({'B', 'C'}),\n",
       "  frozenset({'B', 'C'}),\n",
       "  frozenset({'B', 'C'}),\n",
       "  frozenset({'B', 'C'}),\n",
       "  frozenset({'B', 'C'}),\n",
       "  frozenset({'B', 'C'}),\n",
       "  frozenset({'B', 'C'}),\n",
       "  frozenset({'B', 'C'}),\n",
       "  frozenset({'B', 'C'}),\n",
       "  frozenset({'B', 'C'}),\n",
       "  frozenset({'B', 'C'}),\n",
       "  frozenset({'B', 'C'}),\n",
       "  frozenset({'B', 'C'}),\n",
       "  frozenset({'B', 'C'}),\n",
       "  frozenset({'B', 'C'}),\n",
       "  frozenset({'B', 'C'}),\n",
       "  frozenset({'B', 'C'}),\n",
       "  frozenset({'B', 'C'}),\n",
       "  frozenset({'B', 'C'}),\n",
       "  frozenset({'B', 'C'}),\n",
       "  frozenset({'B', 'C'}),\n",
       "  frozenset({'B', 'C'}),\n",
       "  frozenset({'B', 'C'}),\n",
       "  frozenset({'B', 'C'}),\n",
       "  frozenset({'B', 'C'}),\n",
       "  frozenset({'B', 'C'}),\n",
       "  frozenset({'B', 'C'}),\n",
       "  frozenset({'B', 'C'}),\n",
       "  frozenset({'B', 'C'}),\n",
       "  frozenset({'B', 'C'}),\n",
       "  frozenset({'B', 'C'}),\n",
       "  frozenset({'B', 'C'}),\n",
       "  frozenset({'B', 'C'}),\n",
       "  frozenset({'B', 'C'}),\n",
       "  frozenset({'B', 'C'}),\n",
       "  frozenset({'B', 'C'}),\n",
       "  frozenset({'B', 'C'}),\n",
       "  frozenset({'B', 'C'}),\n",
       "  frozenset({'B', 'C'}),\n",
       "  frozenset({'B', 'C'}),\n",
       "  frozenset({'B', 'C'}),\n",
       "  frozenset({'B', 'C'}),\n",
       "  frozenset({'B', 'C'}),\n",
       "  frozenset({'B', 'C'}),\n",
       "  frozenset({'B', 'C'}),\n",
       "  frozenset({'B', 'C'}),\n",
       "  frozenset({'B', 'C'}),\n",
       "  frozenset({'B', 'C'}),\n",
       "  frozenset({'B', 'C'}),\n",
       "  frozenset({'B', 'C'}),\n",
       "  frozenset({'B', 'C'}),\n",
       "  frozenset({'B', 'C'}),\n",
       "  frozenset({'B', 'C'}),\n",
       "  frozenset({'B', 'C'}),\n",
       "  frozenset({'B', 'C'}),\n",
       "  frozenset({'B', 'C'}),\n",
       "  frozenset({'B', 'C'}),\n",
       "  frozenset({'B', 'C'}),\n",
       "  frozenset({'B', 'C'}),\n",
       "  frozenset({'B', 'C'}),\n",
       "  frozenset({'B', 'C'}),\n",
       "  ...],\n",
       " {frozenset({'A', 'B'}): 0.0,\n",
       "  frozenset({'A', 'C'}): 0.0,\n",
       "  frozenset({'A', 'D'}): 0.0,\n",
       "  frozenset({'B', 'C'}): 0.0,\n",
       "  frozenset({'B', 'D'}): 0.0,\n",
       "  frozenset({'C', 'D'}): 0.0})"
      ]
     },
     "execution_count": 187,
     "metadata": {},
     "output_type": "execute_result"
    }
   ],
   "source": [
    "pav.tally_pav(e1_cvrs, 2)"
   ]
  },
  {
   "cell_type": "code",
   "execution_count": 180,
   "metadata": {},
   "outputs": [],
   "source": [
    "b = BCVR(1,1,0,0)"
   ]
  },
  {
   "cell_type": "code",
   "execution_count": 160,
   "metadata": {},
   "outputs": [
    {
     "name": "stdout",
     "output_type": "stream",
     "text": [
      "max delta: 3.0000 for winnerset {'A', 'B'} vs altwinnerset {'C', 'D'} via (['A', 'B'], ['C', 'D'])\n"
     ]
    }
   ],
   "source": [
    "maxdeltascore(candidatelist, ['A', 'B'], ['C', 'D'], 2)"
   ]
  },
  {
   "cell_type": "code",
   "execution_count": 172,
   "metadata": {},
   "outputs": [
    {
     "name": "stdout",
     "output_type": "stream",
     "text": [
      "new max delta = 1.00: 0.00, 0.00, 0.00, 1.00, [], ['D']\n",
      "new max delta = 1.50: 0.00, 0.00, 0.00, 1.50, [], ['C', 'D']\n",
      "new max delta = 2.00: 1.00, 0.00, 0.00, 1.00, ['B'], ['D']\n",
      "new max delta = 2.50: 1.00, 0.00, 0.00, 1.50, ['B'], ['C', 'D']\n",
      "new max delta = 3.00: 1.50, 0.00, 0.00, 1.50, ['A', 'B'], ['C', 'D']\n",
      "max delta: 3.0000 for winnerset {'A', 'B'} vs altwinnerset {'C', 'D'} via (['A', 'B'], ['C', 'D'])\n"
     ]
    }
   ],
   "source": [
    "maxdeltascore(candidatelist, ['A', 'B'], ['C', 'D'], 2)"
   ]
  },
  {
   "cell_type": "code",
   "execution_count": 162,
   "metadata": {},
   "outputs": [
    {
     "name": "stdout",
     "output_type": "stream",
     "text": [
      "max delta: 2.0000 for winnerset {'A', 'B'} vs altwinnerset {'B', 'C'} via (['A'], ['C'])\n"
     ]
    }
   ],
   "source": [
    "maxdeltascore(candidatelist, ['A', 'B'], ['B', 'C'], 2)"
   ]
  },
  {
   "cell_type": "code",
   "execution_count": 158,
   "metadata": {},
   "outputs": [
    {
     "name": "stdout",
     "output_type": "stream",
     "text": [
      "max delta: 2.0000 for winnerset {'A', 'B'} vs altwinnerset {'B', 'C'} via (['A', 'D'], ['C', 'D'])\n"
     ]
    }
   ],
   "source": [
    "maxdeltascore(candidatelist, ['A', 'B'], ['B', 'C'], 2)"
   ]
  },
  {
   "cell_type": "markdown",
   "metadata": {},
   "source": [
    "## Another approach"
   ]
  },
  {
   "cell_type": "code",
   "execution_count": 31,
   "metadata": {},
   "outputs": [],
   "source": [
    "binary_cvrs = [BCVR(1, 1, 0, 0)] * 5 + [BCVR(1, 0, 1, 0)] * 17 + [BCVR(0, 0, 0, 1)] * 8"
   ]
  },
  {
   "cell_type": "code",
   "execution_count": 48,
   "metadata": {},
   "outputs": [
    {
     "data": {
      "text/plain": [
       "30"
      ]
     },
     "execution_count": 48,
     "metadata": {},
     "output_type": "execute_result"
    }
   ],
   "source": [
    "len(binary_cvrs)"
   ]
  },
  {
   "cell_type": "code",
   "execution_count": 52,
   "metadata": {},
   "outputs": [],
   "source": [
    "c = binary_cvrs.copy()"
   ]
  },
  {
   "cell_type": "code",
   "execution_count": 53,
   "metadata": {},
   "outputs": [
    {
     "data": {
      "text/plain": [
       "BCVR(A=0, B=0, C=0, D=1)"
      ]
     },
     "execution_count": 53,
     "metadata": {},
     "output_type": "execute_result"
    }
   ],
   "source": [
    "reported_cvr = c.pop()"
   ]
  },
  {
   "cell_type": "code",
   "execution_count": 55,
   "metadata": {},
   "outputs": [],
   "source": [
    "reported_cvr = BCVR(A=0, B=0, C=0, D=1)"
   ]
  },
  {
   "cell_type": "code",
   "execution_count": 54,
   "metadata": {},
   "outputs": [
    {
     "data": {
      "text/plain": [
       "29"
      ]
     },
     "execution_count": 54,
     "metadata": {},
     "output_type": "execute_result"
    }
   ],
   "source": [
    "for cvr in allbcvrs:\n",
    "    winner, cvrs, scores = pav.tally_pav(c, 2)\n",
    "    print(\"cvr: margin(scores)"
   ]
  },
  {
   "cell_type": "code",
   "execution_count": 33,
   "metadata": {},
   "outputs": [
    {
     "name": "stdout",
     "output_type": "stream",
     "text": [
      "30 CVRs, 3 unique selections of candidates\n",
      "\n",
      "Proportional Approval Voting results\n",
      "\n",
      "Top 10 scores:\n",
      "('30.500', ['A', 'C'])\n",
      "('30.000', ['A', 'D'])\n",
      "('25.000', ['C', 'D'])\n",
      "('24.500', ['A', 'B'])\n",
      "('22.000', ['B', 'C'])\n",
      "('13.000', ['B', 'D'])\n",
      "\n",
      "Max score ('30.500', ['A', 'C'])\n"
     ]
    }
   ],
   "source": [
    "winner, cvrs, scores = pav.tally_pav(binary_cvrs, 2)"
   ]
  },
  {
   "cell_type": "code",
   "execution_count": 37,
   "metadata": {},
   "outputs": [
    {
     "name": "stdout",
     "output_type": "stream",
     "text": [
      "29 CVRs, 3 unique selections of candidates\n",
      "\n",
      "Proportional Approval Voting results\n",
      "\n",
      "Top 10 scores:\n",
      "('30.500', ['A', 'C'])\n",
      "('29.000', ['A', 'D'])\n",
      "('24.500', ['A', 'B'])\n",
      "('24.000', ['C', 'D'])\n",
      "('22.000', ['B', 'C'])\n",
      "('12.000', ['B', 'D'])\n",
      "\n",
      "Max score ('30.500', ['A', 'C'])\n"
     ]
    }
   ],
   "source": [
    "winner, cvrs, scores = pav.tally_pav([BCVR(1, 1, 0, 0)] * 5 + [BCVR(1, 0, 1, 0)] * 17 + [BCVR(0, 0, 0, 1)] * 7, 2)"
   ]
  },
  {
   "cell_type": "code",
   "execution_count": 39,
   "metadata": {
    "scrolled": true
   },
   "outputs": [
    {
     "data": {
      "text/plain": [
       "{frozenset({'A', 'B'}): 24.5,\n",
       " frozenset({'A', 'C'}): 30.5,\n",
       " frozenset({'A', 'D'}): 29.0,\n",
       " frozenset({'B', 'C'}): 22.0,\n",
       " frozenset({'B', 'D'}): 12.0,\n",
       " frozenset({'C', 'D'}): 24.0}"
      ]
     },
     "execution_count": 39,
     "metadata": {},
     "output_type": "execute_result"
    }
   ],
   "source": [
    "scores"
   ]
  },
  {
   "cell_type": "code",
   "execution_count": 40,
   "metadata": {},
   "outputs": [
    {
     "data": {
      "text/plain": [
       "[(frozenset({'A', 'C'}), 30.5), (frozenset({'A', 'D'}), 29.0)]"
      ]
     },
     "execution_count": 40,
     "metadata": {},
     "output_type": "execute_result"
    }
   ],
   "source": [
    "sorted(scores.items(), key=lambda tuple: tuple[1], reverse=True)[:2]"
   ]
  },
  {
   "cell_type": "code",
   "execution_count": 41,
   "metadata": {},
   "outputs": [],
   "source": [
    "def margin(scores):\n",
    "    top_two = sorted(scores.items(), key=lambda tuple: tuple[1], reverse=True)[:10]\n",
    "    return top_two[0][1] - top_two[1][1]"
   ]
  },
  {
   "cell_type": "code",
   "execution_count": 42,
   "metadata": {},
   "outputs": [
    {
     "data": {
      "text/plain": [
       "1.5"
      ]
     },
     "execution_count": 42,
     "metadata": {},
     "output_type": "execute_result"
    }
   ],
   "source": [
    "margin(scores)"
   ]
  },
  {
   "cell_type": "code",
   "execution_count": 44,
   "metadata": {},
   "outputs": [],
   "source": [
    "allbcvrs = list(BCVR(a, b, c, d) for a in (0, 1) for b in (0, 1) for c in (0, 1) for d in (0, 1))"
   ]
  },
  {
   "cell_type": "code",
   "execution_count": 45,
   "metadata": {},
   "outputs": [
    {
     "data": {
      "text/plain": [
       "[BCVR(A=0, B=0, C=0, D=0),\n",
       " BCVR(A=0, B=0, C=0, D=1),\n",
       " BCVR(A=0, B=0, C=1, D=0),\n",
       " BCVR(A=0, B=0, C=1, D=1),\n",
       " BCVR(A=0, B=1, C=0, D=0),\n",
       " BCVR(A=0, B=1, C=0, D=1),\n",
       " BCVR(A=0, B=1, C=1, D=0),\n",
       " BCVR(A=0, B=1, C=1, D=1),\n",
       " BCVR(A=1, B=0, C=0, D=0),\n",
       " BCVR(A=1, B=0, C=0, D=1),\n",
       " BCVR(A=1, B=0, C=1, D=0),\n",
       " BCVR(A=1, B=0, C=1, D=1),\n",
       " BCVR(A=1, B=1, C=0, D=0),\n",
       " BCVR(A=1, B=1, C=0, D=1),\n",
       " BCVR(A=1, B=1, C=1, D=0),\n",
       " BCVR(A=1, B=1, C=1, D=1)]"
      ]
     },
     "execution_count": 45,
     "metadata": {},
     "output_type": "execute_result"
    }
   ],
   "source": [
    "allbcvrs"
   ]
  },
  {
   "cell_type": "code",
   "execution_count": 47,
   "metadata": {},
   "outputs": [
    {
     "data": {
      "text/plain": [
       "[frozenset({'A', 'B'}),\n",
       " frozenset({'A', 'B'}),\n",
       " frozenset({'A', 'B'}),\n",
       " frozenset({'A', 'B'}),\n",
       " frozenset({'A', 'B'}),\n",
       " frozenset({'A', 'C'}),\n",
       " frozenset({'A', 'C'}),\n",
       " frozenset({'A', 'C'}),\n",
       " frozenset({'A', 'C'}),\n",
       " frozenset({'A', 'C'}),\n",
       " frozenset({'A', 'C'}),\n",
       " frozenset({'A', 'C'}),\n",
       " frozenset({'A', 'C'}),\n",
       " frozenset({'A', 'C'}),\n",
       " frozenset({'A', 'C'}),\n",
       " frozenset({'A', 'C'}),\n",
       " frozenset({'A', 'C'}),\n",
       " frozenset({'A', 'C'}),\n",
       " frozenset({'A', 'C'}),\n",
       " frozenset({'A', 'C'}),\n",
       " frozenset({'A', 'C'}),\n",
       " frozenset({'A', 'C'}),\n",
       " frozenset({'D'}),\n",
       " frozenset({'D'}),\n",
       " frozenset({'D'}),\n",
       " frozenset({'D'}),\n",
       " frozenset({'D'}),\n",
       " frozenset({'D'}),\n",
       " frozenset({'D'})]"
      ]
     },
     "execution_count": 47,
     "metadata": {},
     "output_type": "execute_result"
    }
   ],
   "source": [
    "cvrs"
   ]
  },
  {
   "cell_type": "code",
   "execution_count": null,
   "metadata": {},
   "outputs": [],
   "source": []
  },
  {
   "cell_type": "raw",
   "metadata": {},
   "source": []
  },
  {
   "cell_type": "code",
   "execution_count": 38,
   "metadata": {
    "collapsed": true
   },
   "outputs": [
    {
     "data": {
      "text/plain": [
       "[frozenset({'A', 'B'}),\n",
       " frozenset({'A', 'B'}),\n",
       " frozenset({'A', 'B'}),\n",
       " frozenset({'A', 'B'}),\n",
       " frozenset({'A', 'B'}),\n",
       " frozenset({'A', 'C'}),\n",
       " frozenset({'A', 'C'}),\n",
       " frozenset({'A', 'C'}),\n",
       " frozenset({'A', 'C'}),\n",
       " frozenset({'A', 'C'}),\n",
       " frozenset({'A', 'C'}),\n",
       " frozenset({'A', 'C'}),\n",
       " frozenset({'A', 'C'}),\n",
       " frozenset({'A', 'C'}),\n",
       " frozenset({'A', 'C'}),\n",
       " frozenset({'A', 'C'}),\n",
       " frozenset({'A', 'C'}),\n",
       " frozenset({'A', 'C'}),\n",
       " frozenset({'A', 'C'}),\n",
       " frozenset({'A', 'C'}),\n",
       " frozenset({'A', 'C'}),\n",
       " frozenset({'A', 'C'}),\n",
       " frozenset({'D'}),\n",
       " frozenset({'D'}),\n",
       " frozenset({'D'}),\n",
       " frozenset({'D'}),\n",
       " frozenset({'D'}),\n",
       " frozenset({'D'}),\n",
       " frozenset({'D'})]"
      ]
     },
     "execution_count": 38,
     "metadata": {},
     "output_type": "execute_result"
    }
   ],
   "source": [
    "cvrs"
   ]
  },
  {
   "cell_type": "code",
   "execution_count": 28,
   "metadata": {},
   "outputs": [
    {
     "name": "stdout",
     "output_type": "stream",
     "text": [
      "Plurality results in order\n",
      "Anita_Seitz         4921\n",
      "Shannon_Bird        4823\n",
      "Maria_De_Cambra     3921\n",
      "Mark_Clark          3500\n",
      "David_DeMott        3126\n",
      "Debbie_Bergamo      2668\n",
      "Mike_Melvin         2112\n",
      "Jason_Blanckaert    2026\n",
      "Steve_Caulk         2026\n",
      "Nathan_Pearce       1229\n",
      "dtype: int64\n",
      "\n"
     ]
    }
   ],
   "source": [
    "bcvrs, df = pav.read_cvrs(\"Westminster_Adams.csv\", 3)"
   ]
  },
  {
   "cell_type": "code",
   "execution_count": 29,
   "metadata": {},
   "outputs": [
    {
     "ename": "TypeError",
     "evalue": "object of type 'map' has no len()",
     "output_type": "error",
     "traceback": [
      "\u001b[0;31m---------------------------------------------------------------------------\u001b[0m",
      "\u001b[0;31mTypeError\u001b[0m                                 Traceback (most recent call last)",
      "\u001b[0;32m<ipython-input-29-f119513790e9>\u001b[0m in \u001b[0;36m<module>\u001b[0;34m()\u001b[0m\n\u001b[0;32m----> 1\u001b[0;31m \u001b[0mlen\u001b[0m\u001b[0;34m(\u001b[0m\u001b[0mbcvrs\u001b[0m\u001b[0;34m)\u001b[0m\u001b[0;34m\u001b[0m\u001b[0;34m\u001b[0m\u001b[0m\n\u001b[0m",
      "\u001b[0;31mTypeError\u001b[0m: object of type 'map' has no len()"
     ]
    },
    {
     "name": "stdout",
     "output_type": "stream",
     "text": [
      "> \u001b[0;32m<ipython-input-29-f119513790e9>\u001b[0m(1)\u001b[0;36m<module>\u001b[0;34m()\u001b[0m\n",
      "\u001b[0;32m----> 1 \u001b[0;31m\u001b[0mlen\u001b[0m\u001b[0;34m(\u001b[0m\u001b[0mbcvrs\u001b[0m\u001b[0;34m)\u001b[0m\u001b[0;34m\u001b[0m\u001b[0;34m\u001b[0m\u001b[0m\n",
      "\u001b[0m\n",
      "ipdb> q\n"
     ]
    }
   ],
   "source": [
    "len(bcvrs)"
   ]
  },
  {
   "cell_type": "markdown",
   "metadata": {},
   "source": [
    "# %pdb"
   ]
  },
  {
   "cell_type": "code",
   "execution_count": 25,
   "metadata": {},
   "outputs": [
    {
     "ename": "UnboundLocalError",
     "evalue": "local variable 'cvr' referenced before assignment",
     "output_type": "error",
     "traceback": [
      "\u001b[0;31m---------------------------------------------------------------------------\u001b[0m",
      "\u001b[0;31mUnboundLocalError\u001b[0m                         Traceback (most recent call last)",
      "\u001b[0;32m<ipython-input-25-e6e49e003e4a>\u001b[0m in \u001b[0;36m<module>\u001b[0;34m()\u001b[0m\n\u001b[0;32m----> 1\u001b[0;31m \u001b[0mwinner\u001b[0m\u001b[0;34m,\u001b[0m \u001b[0mcvrs\u001b[0m\u001b[0;34m,\u001b[0m \u001b[0mscores\u001b[0m \u001b[0;34m=\u001b[0m \u001b[0mpav\u001b[0m\u001b[0;34m.\u001b[0m\u001b[0mtally_pav\u001b[0m\u001b[0;34m(\u001b[0m\u001b[0mbcvrs\u001b[0m\u001b[0;34m,\u001b[0m \u001b[0;36m3\u001b[0m\u001b[0;34m)\u001b[0m\u001b[0;34m\u001b[0m\u001b[0;34m\u001b[0m\u001b[0m\n\u001b[0m",
      "\u001b[0;32m/srv/s/approvalvoting/pr_voting_methods/pav.py\u001b[0m in \u001b[0;36mtally_pav\u001b[0;34m(binary_cvrs, num_winners)\u001b[0m\n\u001b[1;32m    142\u001b[0m \u001b[0;34m\u001b[0m\u001b[0m\n\u001b[1;32m    143\u001b[0m     \u001b[0;32mfor\u001b[0m \u001b[0mcvr\u001b[0m \u001b[0;32min\u001b[0m \u001b[0mbinary_cvrs\u001b[0m\u001b[0;34m:\u001b[0m\u001b[0;34m\u001b[0m\u001b[0;34m\u001b[0m\u001b[0m\n\u001b[0;32m--> 144\u001b[0;31m         \u001b[0mcvrs\u001b[0m\u001b[0;34m.\u001b[0m\u001b[0mappend\u001b[0m\u001b[0;34m(\u001b[0m\u001b[0mbools_to_set\u001b[0m\u001b[0;34m(\u001b[0m\u001b[0mcvr\u001b[0m\u001b[0;34m)\u001b[0m\u001b[0;34m)\u001b[0m\u001b[0;34m\u001b[0m\u001b[0;34m\u001b[0m\u001b[0m\n\u001b[0m\u001b[1;32m    145\u001b[0m \u001b[0;34m\u001b[0m\u001b[0m\n\u001b[1;32m    146\u001b[0m     \u001b[0mall_candidates\u001b[0m \u001b[0;34m=\u001b[0m \u001b[0mtype\u001b[0m\u001b[0;34m(\u001b[0m\u001b[0mcvr\u001b[0m\u001b[0;34m)\u001b[0m\u001b[0;34m.\u001b[0m\u001b[0m_fields\u001b[0m\u001b[0;34m\u001b[0m\u001b[0;34m\u001b[0m\u001b[0m\n",
      "\u001b[0;31mUnboundLocalError\u001b[0m: local variable 'cvr' referenced before assignment"
     ]
    },
    {
     "name": "stdout",
     "output_type": "stream",
     "text": [
      "> \u001b[0;32m/srv/s/approvalvoting/pr_voting_methods/pav.py\u001b[0m(144)\u001b[0;36mtally_pav\u001b[0;34m()\u001b[0m\n",
      "\u001b[0;32m    142 \u001b[0;31m\u001b[0;34m\u001b[0m\u001b[0m\n",
      "\u001b[0m\u001b[0;32m    143 \u001b[0;31m    \u001b[0;32mfor\u001b[0m \u001b[0mcvr\u001b[0m \u001b[0;32min\u001b[0m \u001b[0mbinary_cvrs\u001b[0m\u001b[0;34m:\u001b[0m\u001b[0;34m\u001b[0m\u001b[0;34m\u001b[0m\u001b[0m\n",
      "\u001b[0m\u001b[0;32m--> 144 \u001b[0;31m        \u001b[0mcvrs\u001b[0m\u001b[0;34m.\u001b[0m\u001b[0mappend\u001b[0m\u001b[0;34m(\u001b[0m\u001b[0mbools_to_set\u001b[0m\u001b[0;34m(\u001b[0m\u001b[0mcvr\u001b[0m\u001b[0;34m)\u001b[0m\u001b[0;34m)\u001b[0m\u001b[0;34m\u001b[0m\u001b[0;34m\u001b[0m\u001b[0m\n",
      "\u001b[0m\u001b[0;32m    145 \u001b[0;31m\u001b[0;34m\u001b[0m\u001b[0m\n",
      "\u001b[0m\u001b[0;32m    146 \u001b[0;31m    \u001b[0mall_candidates\u001b[0m \u001b[0;34m=\u001b[0m \u001b[0mtype\u001b[0m\u001b[0;34m(\u001b[0m\u001b[0mcvr\u001b[0m\u001b[0;34m)\u001b[0m\u001b[0;34m.\u001b[0m\u001b[0m_fields\u001b[0m\u001b[0;34m\u001b[0m\u001b[0;34m\u001b[0m\u001b[0m\n",
      "\u001b[0m\n",
      "ipdb> cvr\n",
      "*** NameError: name 'cvr' is not defined\n",
      "ipdb> binary_cvrs\n",
      "<map object at 0x7fa14479fcf8>\n",
      "ipdb> l\n",
      "\u001b[1;32m    139 \u001b[0m    \"\"\"\n",
      "\u001b[1;32m    140 \u001b[0m\u001b[0;34m\u001b[0m\u001b[0m\n",
      "\u001b[1;32m    141 \u001b[0m    \u001b[0mcvrs\u001b[0m \u001b[0;34m=\u001b[0m \u001b[0;34m[\u001b[0m\u001b[0;34m]\u001b[0m\u001b[0;34m\u001b[0m\u001b[0;34m\u001b[0m\u001b[0m\n",
      "\u001b[1;32m    142 \u001b[0m\u001b[0;34m\u001b[0m\u001b[0m\n",
      "\u001b[1;32m    143 \u001b[0m    \u001b[0;32mfor\u001b[0m \u001b[0mcvr\u001b[0m \u001b[0;32min\u001b[0m \u001b[0mbinary_cvrs\u001b[0m\u001b[0;34m:\u001b[0m\u001b[0;34m\u001b[0m\u001b[0;34m\u001b[0m\u001b[0m\n",
      "\u001b[0;32m--> 144 \u001b[0;31m        \u001b[0mcvrs\u001b[0m\u001b[0;34m.\u001b[0m\u001b[0mappend\u001b[0m\u001b[0;34m(\u001b[0m\u001b[0mbools_to_set\u001b[0m\u001b[0;34m(\u001b[0m\u001b[0mcvr\u001b[0m\u001b[0;34m)\u001b[0m\u001b[0;34m)\u001b[0m\u001b[0;34m\u001b[0m\u001b[0;34m\u001b[0m\u001b[0m\n",
      "\u001b[0m\u001b[1;32m    145 \u001b[0m\u001b[0;34m\u001b[0m\u001b[0m\n",
      "\u001b[1;32m    146 \u001b[0m    \u001b[0mall_candidates\u001b[0m \u001b[0;34m=\u001b[0m \u001b[0mtype\u001b[0m\u001b[0;34m(\u001b[0m\u001b[0mcvr\u001b[0m\u001b[0;34m)\u001b[0m\u001b[0;34m.\u001b[0m\u001b[0m_fields\u001b[0m\u001b[0;34m\u001b[0m\u001b[0;34m\u001b[0m\u001b[0m\n",
      "\u001b[1;32m    147 \u001b[0m    \u001b[0muniq\u001b[0m \u001b[0;34m=\u001b[0m \u001b[0mcollections\u001b[0m\u001b[0;34m.\u001b[0m\u001b[0mCounter\u001b[0m\u001b[0;34m(\u001b[0m\u001b[0mcvrs\u001b[0m\u001b[0;34m)\u001b[0m\u001b[0;34m\u001b[0m\u001b[0;34m\u001b[0m\u001b[0m\n",
      "\u001b[1;32m    148 \u001b[0m    \u001b[0mprint\u001b[0m\u001b[0;34m(\u001b[0m\u001b[0;34m\"{} CVRs, {} unique selections of candidates\"\u001b[0m\u001b[0;34m.\u001b[0m\u001b[0mformat\u001b[0m\u001b[0;34m(\u001b[0m\u001b[0mlen\u001b[0m\u001b[0;34m(\u001b[0m\u001b[0mcvrs\u001b[0m\u001b[0;34m)\u001b[0m\u001b[0;34m,\u001b[0m \u001b[0mlen\u001b[0m\u001b[0;34m(\u001b[0m\u001b[0muniq\u001b[0m\u001b[0;34m)\u001b[0m\u001b[0;34m)\u001b[0m\u001b[0;34m)\u001b[0m\u001b[0;34m\u001b[0m\u001b[0;34m\u001b[0m\u001b[0m\n",
      "\u001b[1;32m    149 \u001b[0m\u001b[0;34m\u001b[0m\u001b[0m\n",
      "\n",
      "ipdb> l-\n",
      "*** Error in argument: '-'\n",
      "ipdb> l -\n",
      "*** Error in argument: '-'\n",
      "ipdb> bt\n",
      "  \u001b[0;32m<ipython-input-25-e6e49e003e4a>\u001b[0m(1)\u001b[0;36m<module>\u001b[0;34m()\u001b[0m\n",
      "\u001b[0;32m----> 1 \u001b[0;31m\u001b[0mwinner\u001b[0m\u001b[0;34m,\u001b[0m \u001b[0mcvrs\u001b[0m\u001b[0;34m,\u001b[0m \u001b[0mscores\u001b[0m \u001b[0;34m=\u001b[0m \u001b[0mpav\u001b[0m\u001b[0;34m.\u001b[0m\u001b[0mtally_pav\u001b[0m\u001b[0;34m(\u001b[0m\u001b[0mbcvrs\u001b[0m\u001b[0;34m,\u001b[0m \u001b[0;36m3\u001b[0m\u001b[0;34m)\u001b[0m\u001b[0;34m\u001b[0m\u001b[0;34m\u001b[0m\u001b[0m\n",
      "\u001b[0m\n",
      "> \u001b[0;32m/srv/s/approvalvoting/pr_voting_methods/pav.py\u001b[0m(144)\u001b[0;36mtally_pav\u001b[0;34m()\u001b[0m\n",
      "\u001b[0;32m    142 \u001b[0;31m\u001b[0;34m\u001b[0m\u001b[0m\n",
      "\u001b[0m\u001b[0;32m    143 \u001b[0;31m    \u001b[0;32mfor\u001b[0m \u001b[0mcvr\u001b[0m \u001b[0;32min\u001b[0m \u001b[0mbinary_cvrs\u001b[0m\u001b[0;34m:\u001b[0m\u001b[0;34m\u001b[0m\u001b[0;34m\u001b[0m\u001b[0m\n",
      "\u001b[0m\u001b[0;32m--> 144 \u001b[0;31m        \u001b[0mcvrs\u001b[0m\u001b[0;34m.\u001b[0m\u001b[0mappend\u001b[0m\u001b[0;34m(\u001b[0m\u001b[0mbools_to_set\u001b[0m\u001b[0;34m(\u001b[0m\u001b[0mcvr\u001b[0m\u001b[0;34m)\u001b[0m\u001b[0;34m)\u001b[0m\u001b[0;34m\u001b[0m\u001b[0;34m\u001b[0m\u001b[0m\n",
      "\u001b[0m\u001b[0;32m    145 \u001b[0;31m\u001b[0;34m\u001b[0m\u001b[0m\n",
      "\u001b[0m\u001b[0;32m    146 \u001b[0;31m    \u001b[0mall_candidates\u001b[0m \u001b[0;34m=\u001b[0m \u001b[0mtype\u001b[0m\u001b[0;34m(\u001b[0m\u001b[0mcvr\u001b[0m\u001b[0;34m)\u001b[0m\u001b[0;34m.\u001b[0m\u001b[0m_fields\u001b[0m\u001b[0;34m\u001b[0m\u001b[0;34m\u001b[0m\u001b[0m\n",
      "\u001b[0m\n",
      "ipdb> up\n",
      "> \u001b[0;32m<ipython-input-25-e6e49e003e4a>\u001b[0m(1)\u001b[0;36m<module>\u001b[0;34m()\u001b[0m\n",
      "\u001b[0;32m----> 1 \u001b[0;31m\u001b[0mwinner\u001b[0m\u001b[0;34m,\u001b[0m \u001b[0mcvrs\u001b[0m\u001b[0;34m,\u001b[0m \u001b[0mscores\u001b[0m \u001b[0;34m=\u001b[0m \u001b[0mpav\u001b[0m\u001b[0;34m.\u001b[0m\u001b[0mtally_pav\u001b[0m\u001b[0;34m(\u001b[0m\u001b[0mbcvrs\u001b[0m\u001b[0;34m,\u001b[0m \u001b[0;36m3\u001b[0m\u001b[0;34m)\u001b[0m\u001b[0;34m\u001b[0m\u001b[0;34m\u001b[0m\u001b[0m\n",
      "\u001b[0m\n",
      "ipdb> bcvrs\n",
      "<map object at 0x7fa14479fcf8>\n",
      "ipdb> bcvrs?\n",
      "*** SyntaxError: invalid syntax\n",
      "ipdb> type(bcvrs)\n",
      "<class 'map'>\n",
      "ipdb> map.__dir__\n",
      "<method '__dir__' of 'object' objects>\n",
      "ipdb> map.__dir__()\n",
      "*** TypeError: descriptor '__dir__' of 'object' object needs an argument\n",
      "ipdb> l = list(bcvrs)\n",
      "*** Error in argument: '= list(bcvrs)'\n",
      "ipdb> list(bcvrs)\n",
      "*** Error in argument: '(bcvrs)'\n",
      "ipdb> down\n",
      "> \u001b[0;32m/srv/s/approvalvoting/pr_voting_methods/pav.py\u001b[0m(144)\u001b[0;36mtally_pav\u001b[0;34m()\u001b[0m\n",
      "\u001b[0;32m    142 \u001b[0;31m\u001b[0;34m\u001b[0m\u001b[0m\n",
      "\u001b[0m\u001b[0;32m    143 \u001b[0;31m    \u001b[0;32mfor\u001b[0m \u001b[0mcvr\u001b[0m \u001b[0;32min\u001b[0m \u001b[0mbinary_cvrs\u001b[0m\u001b[0;34m:\u001b[0m\u001b[0;34m\u001b[0m\u001b[0;34m\u001b[0m\u001b[0m\n",
      "\u001b[0m\u001b[0;32m--> 144 \u001b[0;31m        \u001b[0mcvrs\u001b[0m\u001b[0;34m.\u001b[0m\u001b[0mappend\u001b[0m\u001b[0;34m(\u001b[0m\u001b[0mbools_to_set\u001b[0m\u001b[0;34m(\u001b[0m\u001b[0mcvr\u001b[0m\u001b[0;34m)\u001b[0m\u001b[0;34m)\u001b[0m\u001b[0;34m\u001b[0m\u001b[0;34m\u001b[0m\u001b[0m\n",
      "\u001b[0m\u001b[0;32m    145 \u001b[0;31m\u001b[0;34m\u001b[0m\u001b[0m\n",
      "\u001b[0m\u001b[0;32m    146 \u001b[0;31m    \u001b[0mall_candidates\u001b[0m \u001b[0;34m=\u001b[0m \u001b[0mtype\u001b[0m\u001b[0;34m(\u001b[0m\u001b[0mcvr\u001b[0m\u001b[0;34m)\u001b[0m\u001b[0;34m.\u001b[0m\u001b[0m_fields\u001b[0m\u001b[0;34m\u001b[0m\u001b[0;34m\u001b[0m\u001b[0m\n",
      "\u001b[0m\n",
      "ipdb> list(binary_cvrs)\n",
      "*** Error in argument: '(binary_cvrs)'\n",
      "ipdb> q\n"
     ]
    }
   ],
   "source": [
    "winner, cvrs, scores = pav.tally_pav(bcvrs, 3)"
   ]
  },
  {
   "cell_type": "code",
   "execution_count": 26,
   "metadata": {},
   "outputs": [
    {
     "data": {
      "text/plain": [
       "<map at 0x7fa14479fcf8>"
      ]
     },
     "execution_count": 26,
     "metadata": {},
     "output_type": "execute_result"
    }
   ],
   "source": [
    "bcvrs"
   ]
  },
  {
   "cell_type": "code",
   "execution_count": 27,
   "metadata": {},
   "outputs": [
    {
     "data": {
      "text/plain": [
       "[]"
      ]
     },
     "execution_count": 27,
     "metadata": {},
     "output_type": "execute_result"
    }
   ],
   "source": [
    "list(bcvrs)"
   ]
  },
  {
   "cell_type": "code",
   "execution_count": null,
   "metadata": {},
   "outputs": [],
   "source": []
  }
 ],
 "metadata": {
  "kernelspec": {
   "display_name": "Python 3",
   "language": "python",
   "name": "python3"
  },
  "language_info": {
   "codemirror_mode": {
    "name": "ipython",
    "version": 3
   },
   "file_extension": ".py",
   "mimetype": "text/x-python",
   "name": "python",
   "nbconvert_exporter": "python",
   "pygments_lexer": "ipython3",
   "version": "3.6.7"
  },
  "toc": {
   "colors": {
    "hover_highlight": "#DAA520",
    "running_highlight": "#FF0000",
    "selected_highlight": "#FFD700"
   },
   "moveMenuLeft": true,
   "nav_menu": {
    "height": "48px",
    "width": "252px"
   },
   "navigate_menu": true,
   "number_sections": true,
   "sideBar": true,
   "threshold": 4,
   "toc_cell": false,
   "toc_section_display": "block",
   "toc_window_display": false,
   "widenNotebook": false
  }
 },
 "nbformat": 4,
 "nbformat_minor": 2
}
